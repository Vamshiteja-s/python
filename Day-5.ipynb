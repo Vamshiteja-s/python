{
 "cells": [
  {
   "cell_type": "code",
   "execution_count": 3,
   "metadata": {},
   "outputs": [
    {
     "name": "stdout",
     "output_type": "stream",
     "text": [
      "sweet vitamin A\n",
      "vitamin c\n"
     ]
    }
   ],
   "source": [
    "#Abstract class\n",
    "#it is the process of handling  the information by hiding\n",
    "#INFORMAL OF UNNECESSARY INFORMATION OF THE USER\n",
    "class fruit:\n",
    "    def taste(self):\n",
    "        raise NotImplementedError()\n",
    "    def rich(self):\n",
    "        raise NotImplementedError()\n",
    "    def color(self):\n",
    "        raise NotImplementedError()\n",
    "class mango(fruit):\n",
    "    def taste(self):\n",
    "        return \"sweet\"\n",
    "    def rich(self):\n",
    "        return \"vitamin A\"\n",
    "    def color(self):\n",
    "        return \"Yellow\"\n",
    "class orange(fruit):\n",
    "    def taste(self):\n",
    "        return \"sweet\"\n",
    "    def rich(self):\n",
    "        return \"vitamin c\"\n",
    "    def color(self):\n",
    "        return \"orange\"\n",
    "Alphanso=mango()\n",
    "print(Alphanso.taste(), Alphanso.rich())\n",
    "pulpy = orange()\n",
    "print(pulpy.rich())"
   ]
  },
  {
   "cell_type": "code",
   "execution_count": 5,
   "metadata": {},
   "outputs": [
    {
     "name": "stdout",
     "output_type": "stream",
     "text": [
      "result is:\n",
      "( 9 + 6 i)\n"
     ]
    }
   ],
   "source": [
    "#program to illustrate polymorhism on a complex number\n",
    "class complex():\n",
    "    def __init__(self):\n",
    "        self.real=0\n",
    "        self.img=0\n",
    "    def setValue(self,real,img):\n",
    "        self.real=real\n",
    "        self.img=img\n",
    "    def __add__(self,c):\n",
    "        temp = complex()\n",
    "        temp.real=self.real+c.real\n",
    "        temp.img=self.img+c.img\n",
    "        return temp\n",
    "    def display(self):\n",
    "        print(\"(\",self.real,\"+\",self.img,\"i)\")\n",
    "c1=complex()\n",
    "c1.setValue(6,2)\n",
    "c2=complex()\n",
    "c2.setValue(3,4)\n",
    "c3=c1+c2\n",
    "print(\"result is:\")\n",
    "c3.display()"
   ]
  },
  {
   "cell_type": "markdown",
   "metadata": {},
   "source": [
    "### Operator ------ Function name -----\n",
    "1. +       __add__\n",
    "2. +=      __iadd__\n",
    "3. -       __sub__\n",
    "4. -=      __isub__\n",
    "5. *       __mul__\n",
    "6. *=      __imul__\n",
    "7. /       __truediv__\n",
    "8. /=      __idiv__\n",
    "9. *       __pow__\n",
    "10. **      __ipow__\n",
    "11. %       __mod__\n",
    "12. %=      __imod__\n",
    "13. >>      __rshift__     //    << __lshift__\n",
    "14. >>=     __irshift__     //    <<= __ilshift__   \n",
    "15. &       __and__\n",
    "16. &=      __iand__\n",
    "17. |       __or__\n",
    "18. |=      __ior__\n",
    "19. ^       __xor__\n",
    "20. ^=      __ixor__\n",
    "21. ~       __invert__\n",
    "22. ~=      __iinvert__\n",
    "23. >       __gt__\n",
    "24. <       __lt__\n",
    "25. >=      __ge__\n",
    "26. <=      __le__"
   ]
  },
  {
   "cell_type": "code",
   "execution_count": 7,
   "metadata": {},
   "outputs": [
    {
     "name": "stdout",
     "output_type": "stream",
     "text": [
      "enter rectangle length:12\n",
      "enter rectangle breadth:5\n",
      "area of rectangle 60.0\n",
      "enter triangle base:60\n",
      "enter triangle height:12\n",
      "area of triangle 360.0\n"
     ]
    }
   ],
   "source": [
    "''' \n",
    "Program that has abstract class to derive two classes rectangle and triangle from polygon class\n",
    "write the methods to get their details and dimensions and hence calculate the area respectively\n",
    "'''\n",
    "class polygon:\n",
    "    def get_data(self):\n",
    "        raise NotImplementedError()\n",
    "    def area(self):\n",
    "        raise NotImplementedError()\n",
    "class rectangle(polygon):\n",
    "    def get_data(self):\n",
    "        self.length=float(input(\"enter rectangle length:\"))\n",
    "        self.breadth=float(input(\"enter rectangle breadth:\"))\n",
    "    def area(self):\n",
    "        return self.length*self.breadth\n",
    "class triangle(polygon):\n",
    "    def get_data(self):\n",
    "        self.base=float(input(\"enter triangle base:\"))\n",
    "        self.height=float(input(\"enter triangle height:\"))\n",
    "    def area(self):\n",
    "        return 0.5* self.base*self.height\n",
    "r=rectangle()\n",
    "r.get_data()\n",
    "print(\"area of rectangle\",r.area())\n",
    "t=triangle()\n",
    "t.get_data()\n",
    "print(\"area of triangle\",t.area())"
   ]
  },
  {
   "cell_type": "code",
   "execution_count": 10,
   "metadata": {},
   "outputs": [
    {
     "name": "stdout",
     "output_type": "stream",
     "text": [
      "Name:  Vamshi \n",
      "Roll num:  1044\n"
     ]
    }
   ],
   "source": [
    "# Encapsualing public members\n",
    "class pub:\n",
    "    def __init__(self, name, num):\n",
    "        self.name = name\n",
    "        self.num = num\n",
    "    def Num(self):\n",
    "        print(\"Name: \", self.name)\n",
    "        print(\"Roll num: \", self.num)\n",
    "obj = pub(\"Vamshi \" , 1044)\n",
    "obj.Num()"
   ]
  },
  {
   "cell_type": "code",
   "execution_count": 12,
   "metadata": {},
   "outputs": [
    {
     "name": "stdout",
     "output_type": "stream",
     "text": [
      "50\n"
     ]
    }
   ],
   "source": [
    "#program to overload the _call_ method\n",
    "class multi:\n",
    "    def __init__(self,num):\n",
    "        self.num=num\n",
    "    def __call__(self,o):\n",
    "        return self.num*o\n",
    "x=multi(10)\n",
    "print(x(5))"
   ]
  },
  {
   "cell_type": "code",
   "execution_count": 1,
   "metadata": {},
   "outputs": [
    {
     "name": "stdout",
     "output_type": "stream",
     "text": [
      "List is  ..................\n",
      "[1, 2, 3, 4, 5, 6, 7, 8, 9]\n",
      "Enter the index of list:  2\n",
      "Enter the position u want to modify in the list:  1241\n",
      "[1, 2, 1241, 4, 5, 6, 7, 8, 9]\n",
      "The length of list is  9\n"
     ]
    }
   ],
   "source": [
    "#program to over-ride get-item and set-item methods\n",
    "class mylist:\n",
    "    def __init__(self, List):\n",
    "        self.List = List\n",
    "    def __getitem__(self, index):\n",
    "        return self.List[index]\n",
    "    def __setitem__(self, index, num):\n",
    "        self.List[index] = num\n",
    "    def __len__(self):\n",
    "        return len(self.List)\n",
    "    def display(self):\n",
    "        print(self.List)\n",
    "L = mylist([1,2,3,4,5,6,7,8,9])\n",
    "print(\"List is  ..................\")\n",
    "L.display()\n",
    "index = int(input(\"Enter the index of list:  \"))\n",
    "num = int(input(\"Enter the position u want to modify in the list:  \"))\n",
    "L[index] = num\n",
    "L.display()\n",
    "print(\"The length of list is \", len(L))"
   ]
  },
  {
   "cell_type": "code",
   "execution_count": 1,
   "metadata": {},
   "outputs": [
    {
     "name": "stdout",
     "output_type": "stream",
     "text": [
      "n is = -14\n",
      "abs(n) is = 14\n",
      "converting to float 14.0\n",
      "converting to hexa 0xe\n",
      "converting to octa 0o16\n"
     ]
    }
   ],
   "source": [
    "#special or miscellaneous functions in overloading\n",
    "class number:\n",
    "    def __init__(self,num):\n",
    "        self.num=num\n",
    "    def display(self):\n",
    "        return self.num\n",
    "    def __abs__(self):\n",
    "        return abs(self.num)\n",
    "    def __float__(self):\n",
    "        return float(self.num)\n",
    "    def __hex__(self):\n",
    "        return hex(self.num)\n",
    "    def __oct__(self):\n",
    "        return oct(self.num)\n",
    "    def __setitem__(self,num):\n",
    "        self.num=num\n",
    "n=number(-14)\n",
    "print('n is =',n.display())\n",
    "print('abs(n) is =',abs(n))\n",
    "n=abs(n)\n",
    "print('converting to float',float(n))\n",
    "print('converting to hexa',hex(n))\n",
    "print('converting to octa',oct(n))"
   ]
  },
  {
   "cell_type": "code",
   "execution_count": 7,
   "metadata": {},
   "outputs": [
    {
     "name": "stdout",
     "output_type": "stream",
     "text": [
      "------teacher class-------\n",
      "name is  Vijay\n",
      "age is 43\n",
      "experience is 20\n",
      "research area Python\n",
      "-------student class--------\n",
      "name is  Vamshi\n",
      "age is 20\n",
      "courses= CSE\n",
      "marks= 78\n"
     ]
    }
   ],
   "source": [
    "#to visualize interitance flow\n",
    "class person:\n",
    "    def __init__(self,name,age):\n",
    "        self.name=name\n",
    "        self.age=age\n",
    "    def display(self):\n",
    "        print(\"name is \",self.name)\n",
    "        print('age is',self.age)\n",
    "class teacher(person):\n",
    "    def __init__(self,name,age,exp,rarea):\n",
    "        person.__init__(self,name,age)\n",
    "        self.exp=exp\n",
    "        self.rarea=rarea\n",
    "    def displaydata(self):\n",
    "        person.display(self)\n",
    "        print('experience is',self.exp)\n",
    "        print('research area',self.rarea)\n",
    "class student(person):\n",
    "    def __init__(self,name,age,course,marks):\n",
    "        person.__init__(self,name,age)\n",
    "        self.course=course\n",
    "        self.marks=marks\n",
    "    def displaydata(self):\n",
    "        person.display(self)\n",
    "        print('courses=',self.course)\n",
    "        print('marks=',self.marks)\n",
    "print('------teacher class-------')\n",
    "T=teacher('Vijay',43,20,'Python')\n",
    "T.displaydata()\n",
    "print('-------student class--------')\n",
    "S=student('Vamshi',20,'CSE',78)\n",
    "S.displaydata()"
   ]
  },
  {
   "cell_type": "code",
   "execution_count": 12,
   "metadata": {
    "scrolled": true
   },
   "outputs": [
    {
     "name": "stdout",
     "output_type": "stream",
     "text": [
      "base class1\n"
     ]
    }
   ],
   "source": [
    "#program to invoke _init_ in multiple inheritance\n",
    "class base1(object):\n",
    "    def __init__(self):\n",
    "        print(\"base class1\")\n",
    "class base2(object):\n",
    "    def __init__(self):\n",
    "        print(\"base class 2\")\n",
    "class Derived(base1,base2):\n",
    "    pass\n",
    "D=Derived()"
   ]
  },
  {
   "cell_type": "code",
   "execution_count": 13,
   "metadata": {},
   "outputs": [
    {
     "name": "stdout",
     "output_type": "stream",
     "text": [
      "base class 1\n",
      "base class 2\n",
      "derived class\n"
     ]
    }
   ],
   "source": [
    "#program to call constructor of a base class from super\n",
    "class base1(object):\n",
    "    def __init__(self):\n",
    "        print('base class 1')\n",
    "        super(base1,self).__init__()\n",
    "class base2(object):\n",
    "    def __init__(self):\n",
    "        print('base class 2')\n",
    "class derived(base1,base2):\n",
    "     def __init__(self):\n",
    "        super(derived,self).__init__()\n",
    "        print('derived class')\n",
    "D=derived()"
   ]
  },
  {
   "cell_type": "code",
   "execution_count": 15,
   "metadata": {},
   "outputs": [
    {
     "name": "stdout",
     "output_type": "stream",
     "text": [
      "name is...\n",
      "qualification is phd\n",
      "experience is 22 yrs\n"
     ]
    }
   ],
   "source": [
    "class person:\n",
    "    def name(self):\n",
    "        print('name is...')\n",
    "class teacher(person):\n",
    "    def qual(self):\n",
    "        print('qualification is phd')\n",
    "class hod(teacher): #class derived from teacher   person->teacher ->hod\n",
    "    def expe(self):\n",
    "        print('experience is 22 yrs')\n",
    "HOD=hod()\n",
    "HOD.name()\n",
    "HOD.qual()\n",
    "HOD.expe()"
   ]
  },
  {
   "cell_type": "code",
   "execution_count": 16,
   "metadata": {},
   "outputs": [
    {
     "name": "stdout",
     "output_type": "stream",
     "text": [
      "___eligibility to apply___\n",
      "academic score 90% above\n",
      "EEE score----60% and above\n"
     ]
    }
   ],
   "source": [
    "#multi path inheritance\n",
    "class student:\n",
    "    def name(self):\n",
    "        print(\"name....\")\n",
    "class academic(student):\n",
    "    def acad_score(self):\n",
    "        print('academic score 90% above')\n",
    "class EEE(student):\n",
    "    def EEE_score(self):\n",
    "        print('EEE score----60% and above')\n",
    "class result(academic,EEE):\n",
    "    def eligibility(self):\n",
    "        print('___eligibility to apply___')\n",
    "        self.acad_score()\n",
    "        self.EEE_score()\n",
    "r=result()\n",
    "r.eligibility()"
   ]
  },
  {
   "cell_type": "code",
   "execution_count": null,
   "metadata": {},
   "outputs": [],
   "source": []
  }
 ],
 "metadata": {
  "kernelspec": {
   "display_name": "Python 3",
   "language": "python",
   "name": "python3"
  },
  "language_info": {
   "codemirror_mode": {
    "name": "ipython",
    "version": 3
   },
   "file_extension": ".py",
   "mimetype": "text/x-python",
   "name": "python",
   "nbconvert_exporter": "python",
   "pygments_lexer": "ipython3",
   "version": "3.7.3"
  }
 },
 "nbformat": 4,
 "nbformat_minor": 2
}

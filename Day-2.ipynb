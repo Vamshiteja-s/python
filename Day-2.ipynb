{
 "cells": [
  {
   "cell_type": "code",
   "execution_count": 5,
   "metadata": {},
   "outputs": [
    {
     "name": "stdout",
     "output_type": "stream",
     "text": [
      "Enter any number:  3\n",
      "Prime\n"
     ]
    }
   ],
   "source": [
    "def isprime(n):\n",
    "    f=0\n",
    "    for i in range(1,n):\n",
    "        if(n%i==0):\n",
    "            f+=1\n",
    "    if(f==1):\n",
    "        return 1\n",
    "    else:\n",
    "        return 0\n",
    "    \n",
    "num = int(input(\"Enter any number:  \"))\n",
    "if(isprime(num)):\n",
    "    print(\"Prime\")\n",
    "else:\n",
    "    print(\"Composite\")"
   ]
  },
  {
   "cell_type": "code",
   "execution_count": 8,
   "metadata": {},
   "outputs": [
    {
     "name": "stdout",
     "output_type": "stream",
     "text": [
      "Aate Bate Cate Date Eate Fate Gate Hate "
     ]
    }
   ],
   "source": [
    "str1 = \"ABCDEFGH\"\n",
    "str2 = \"ate\"\n",
    "for letter in str1:\n",
    "    print(letter + str2, end= \" \")"
   ]
  },
  {
   "cell_type": "code",
   "execution_count": 9,
   "metadata": {},
   "outputs": [],
   "source": [
    "#patterns\n",
    "#1 - Basic patterns\n",
    "#2 - Mirror image patterns\n",
    "#3 - Symmetrical patterns\n",
    "#4 - choice of patterns\n",
    "#5 - Anti-patterns/Hallow patterns"
   ]
  },
  {
   "cell_type": "code",
   "execution_count": 28,
   "metadata": {},
   "outputs": [
    {
     "name": "stdout",
     "output_type": "stream",
     "text": [
      "Enter number of rows:  5\n",
      "* \n",
      "\n",
      "* * \n",
      "\n",
      "* * * \n",
      "\n",
      "* * * * \n",
      "\n",
      "* * * * * \n",
      "\n"
     ]
    }
   ],
   "source": [
    "#basic pattern\n",
    "r = int(input(\"Enter number of rows:  \"))\n",
    "for i in range(r):\n",
    "    for j in range(i+1):\n",
    "        print(\"*\", end = \" \")\n",
    "    print(\"\\n\")"
   ]
  },
  {
   "cell_type": "code",
   "execution_count": 29,
   "metadata": {},
   "outputs": [
    {
     "name": "stdout",
     "output_type": "stream",
     "text": [
      "Enter number of rows:  5\n",
      "1 2 3 4 5 \n",
      "\n",
      "1 2 3 4 \n",
      "\n",
      "1 2 3 \n",
      "\n",
      "1 2 \n",
      "\n",
      "1 \n",
      "\n"
     ]
    }
   ],
   "source": [
    "#basic pattern\n",
    "r = int(input(\"Enter number of rows:  \"))\n",
    "for i in range(r, 0, -1):\n",
    "    for j in range(i):\n",
    "        print(j+1, end = \" \")\n",
    "    print(\"\\n\")"
   ]
  },
  {
   "cell_type": "code",
   "execution_count": 30,
   "metadata": {},
   "outputs": [
    {
     "name": "stdout",
     "output_type": "stream",
     "text": [
      "Enter number of rows:  5\n",
      "1 \n",
      "\n",
      "1 2 \n",
      "\n",
      "1 2 3 \n",
      "\n",
      "1 2 3 4 \n",
      "\n",
      "1 2 3 4 5 \n",
      "\n"
     ]
    }
   ],
   "source": [
    "#basic pattern\n",
    "r = int(input(\"Enter number of rows:  \"))\n",
    "for i in range(r):\n",
    "    for j in range(i+1):\n",
    "        print(j+1, end = \" \")\n",
    "    print(\"\\n\")"
   ]
  },
  {
   "cell_type": "code",
   "execution_count": 31,
   "metadata": {},
   "outputs": [
    {
     "name": "stdout",
     "output_type": "stream",
     "text": [
      "Enter number of rows:  5\n",
      "* * * * * \n",
      "\n",
      "* * * * \n",
      "\n",
      "* * * \n",
      "\n",
      "* * \n",
      "\n",
      "* \n",
      "\n"
     ]
    }
   ],
   "source": [
    "#basic pattern\n",
    "r = int(input(\"Enter number of rows:  \"))\n",
    "for i in range(r, 0, -1):\n",
    "    for j in range(i):\n",
    "        print(\"*\", end = \" \")\n",
    "    print(\"\\n\")"
   ]
  },
  {
   "cell_type": "code",
   "execution_count": 32,
   "metadata": {},
   "outputs": [
    {
     "name": "stdout",
     "output_type": "stream",
     "text": [
      "Enter number of rows:  5\n",
      "0 1 2 3 4 \n",
      "\n",
      "0 1 2 3 \n",
      "\n",
      "0 1 2 \n",
      "\n",
      "0 1 \n",
      "\n",
      "0 \n",
      "\n"
     ]
    }
   ],
   "source": [
    "#basic pattern\n",
    "r = int(input(\"Enter number of rows:  \"))\n",
    "for i in range(r, 0, -1):\n",
    "    for j in range(i):\n",
    "        print(j, end = \" \")\n",
    "    print(\"\\n\")"
   ]
  },
  {
   "cell_type": "code",
   "execution_count": 56,
   "metadata": {},
   "outputs": [
    {
     "name": "stdout",
     "output_type": "stream",
     "text": [
      "Enter number of rows:  5\n",
      "0   \n",
      "\n",
      "0   1   \n",
      "\n",
      "0   1   2   \n",
      "\n",
      "0   1   2   3   \n",
      "\n",
      "0   1   2   3   4   \n",
      "\n"
     ]
    }
   ],
   "source": [
    "#basic pattern\n",
    "r = int(input(\"Enter number of rows:  \"))\n",
    "for i in range(r):\n",
    "    for j in range(i+1):\n",
    "        print(j, end = \"   \")\n",
    "    print(\"\\n\")"
   ]
  },
  {
   "cell_type": "code",
   "execution_count": 61,
   "metadata": {},
   "outputs": [
    {
     "name": "stdout",
     "output_type": "stream",
     "text": [
      "Enter number of rows:  5\n",
      "*   *   *   *   *   *   \n",
      "\n",
      "  *   *   *   *   *   \n",
      "\n",
      "    *   *   *   *   \n",
      "\n",
      "      *   *   *   \n",
      "\n",
      "        *   *   \n",
      "\n",
      "          *   \n",
      "\n"
     ]
    }
   ],
   "source": [
    "r = int(input(\"Enter number of rows:  \"))\n",
    "for i in range(r+1):\n",
    "    for j in range(r+1):\n",
    "        if(j<i):\n",
    "            print(' ', end = \" \")\n",
    "        else:\n",
    "            print('*', end = \"   \")\n",
    "    print(\"\\n\")"
   ]
  },
  {
   "cell_type": "code",
   "execution_count": 79,
   "metadata": {},
   "outputs": [
    {
     "name": "stdout",
     "output_type": "stream",
     "text": [
      "Enter number of rows:  5\n",
      "* * * * * \n",
      "  * * * * \n",
      "    * * * \n",
      "      * * \n",
      "        * \n"
     ]
    }
   ],
   "source": [
    "r = int(input(\"Enter number of rows:  \"))\n",
    "i=1\n",
    "while(i<=r):\n",
    "    j=1\n",
    "    while(j<=r):\n",
    "        if j<i:\n",
    "            print(\" \", end=\" \")\n",
    "        else:\n",
    "            print(\"*\", end=\" \")\n",
    "        j=j+1\n",
    "    i=i+1\n",
    "    print()"
   ]
  },
  {
   "cell_type": "code",
   "execution_count": 73,
   "metadata": {},
   "outputs": [
    {
     "name": "stdout",
     "output_type": "stream",
     "text": [
      "Enter number of rows:  5\n",
      "*   *   *   *   *       \n",
      "\n",
      "*   *   *   *           \n",
      "\n",
      "*   *   *               \n",
      "\n",
      "*   *                   \n",
      "\n",
      "*                       \n",
      "\n",
      "                        \n",
      "\n",
      "*                       \n",
      "\n",
      "*   *                   \n",
      "\n",
      "*   *   *               \n",
      "\n",
      "*   *   *   *           \n",
      "\n",
      "*   *   *   *   *       \n",
      "\n"
     ]
    }
   ],
   "source": [
    "r = int(input(\"Enter number of rows:  \"))\n",
    "for i in range(r, 0, -1):\n",
    "    for j in range(r+1):\n",
    "        if(j<i):\n",
    "            print('*', end = \"   \")\n",
    "        else:\n",
    "            print(' ', end = \"   \")\n",
    "    print(\"\\n\")\n",
    "for i in range(r+1):\n",
    "    for j in range(r+1):\n",
    "        if(j<i):\n",
    "            print('*', end = \"   \")\n",
    "        else:\n",
    "            print(' ', end = \"   \")\n",
    "    print(\"\\n\")"
   ]
  },
  {
   "cell_type": "code",
   "execution_count": 71,
   "metadata": {},
   "outputs": [
    {
     "name": "stdout",
     "output_type": "stream",
     "text": [
      "Enter number of rows:  5\n",
      "          1 \n",
      "\n",
      "        1 2 \n",
      "\n",
      "      1 2 3 \n",
      "\n",
      "    1 2 3 4 \n",
      "\n",
      "  1 2 3 4 5 \n",
      "\n"
     ]
    }
   ],
   "source": [
    "r = int(input(\"Enter number of rows:  \"))\n",
    "for i in range(r, 0, -1):\n",
    "    k=1\n",
    "    for j in range(r+1):\n",
    "        if(j<i):\n",
    "            print(' ', end = \" \")\n",
    "        else:\n",
    "            print(k, end = \" \")\n",
    "            k+=1\n",
    "    print(\"\\n\")"
   ]
  },
  {
   "cell_type": "code",
   "execution_count": 87,
   "metadata": {},
   "outputs": [
    {
     "name": "stdout",
     "output_type": "stream",
     "text": [
      "Enter number of rows:  5\n",
      "          *   \n",
      "\n",
      "        *   *   \n",
      "\n",
      "      *   *   *   \n",
      "\n",
      "    *   *   *   *   \n",
      "\n",
      "  *   *   *   *   *   \n",
      "\n",
      "*   *   *   *   *   *   \n",
      "\n",
      "  *   *   *   *   *   \n",
      "\n",
      "    *   *   *   *   \n",
      "\n",
      "      *   *   *   \n",
      "\n",
      "        *   *   \n",
      "\n",
      "          *   \n",
      "\n"
     ]
    }
   ],
   "source": [
    "r = int(input(\"Enter number of rows:  \"))\n",
    "for i in range(r, 0, -1):\n",
    "    for j in range(r+1):\n",
    "        if(j<i):\n",
    "            print(' ', end = \" \")\n",
    "        else:\n",
    "            print('*', end = \"   \")\n",
    "    print(\"\\n\")\n",
    "for i in range(r+1):\n",
    "    for j in range(r+1):\n",
    "        if(j<i):\n",
    "            print(' ', end = \" \")\n",
    "        else:\n",
    "            print('*', end = \"   \")\n",
    "    print(\"\\n\")"
   ]
  },
  {
   "cell_type": "code",
   "execution_count": 86,
   "metadata": {},
   "outputs": [
    {
     "name": "stdout",
     "output_type": "stream",
     "text": [
      "Enter the number of rows= 9\n",
      "                * \n",
      "              *   *\n",
      "            *       *\n",
      "          *           *\n",
      "        *               *\n",
      "      *                   *\n",
      "    *                       *\n",
      "  *                           *\n",
      "*                               *\n",
      "  *                           *\n",
      "    *                       *\n",
      "      *                   *\n",
      "        *               *\n",
      "          *           *\n",
      "            *       *\n",
      "              *   *\n",
      "                * \n"
     ]
    }
   ],
   "source": [
    "rows = int(input(\"Enter the number of rows= \"))\n",
    "i = 1\n",
    "while i<=rows:\n",
    "    j=rows\n",
    "    while j>i:\n",
    "        print(' ',end= \" \")\n",
    "        j-=1\n",
    "    print('*',end=\" \")\n",
    "    k=1\n",
    "    while k<2*(i-1):\n",
    "        print(' ',end=\" \")\n",
    "        k+=1\n",
    "    if i==1:\n",
    "        print()\n",
    "    else:\n",
    "        print('*')\n",
    "    i+=1\n",
    "i=rows-1\n",
    "while i>=1:\n",
    "    j=rows\n",
    "    while j>i:\n",
    "        print(' ', end= ' ')\n",
    "        j-=1\n",
    "    print('*',end=' ')\n",
    "    k=1\n",
    "    while k<2*(i-1):\n",
    "        print(' ',end = ' ')\n",
    "        k+=1\n",
    "    if i==1:\n",
    "        print()\n",
    "    else:\n",
    "        print(\"*\")\n",
    "    i-=1\n",
    "    "
   ]
  },
  {
   "cell_type": "code",
   "execution_count": 90,
   "metadata": {},
   "outputs": [
    {
     "name": "stdout",
     "output_type": "stream",
     "text": [
      "        *  \n",
      "       * *  \n",
      "      * * *  \n",
      "     * * * *  \n",
      "    * * * * *  \n",
      "   * * * * * * \n",
      "    * * * * * \n",
      "     * * * * \n",
      "      * * * \n",
      "       * * \n",
      "        * \n"
     ]
    }
   ],
   "source": [
    "rows=5\n",
    "k = 2 * rows-2\n",
    "for i in range(0, rows):\n",
    "    for j in range(0, k):\n",
    "        print(end=' ')\n",
    "    k = k-1\n",
    "    for j in range(0, i+1):\n",
    "        print('*', end=' ')\n",
    "    print(' ')\n",
    "k=rows-2\n",
    "for i in range(rows, -1, -1):\n",
    "    for j in range(k, 0, -1):\n",
    "        print(end=\" \")\n",
    "    k=k+1\n",
    "    for j in range(0, i+1):\n",
    "        print('*', end=\" \")\n",
    "    print()"
   ]
  },
  {
   "cell_type": "code",
   "execution_count": 93,
   "metadata": {},
   "outputs": [
    {
     "name": "stdout",
     "output_type": "stream",
     "text": [
      "Enter string= 124\n",
      "1\n",
      "12\n",
      "124\n"
     ]
    }
   ],
   "source": [
    "import time\n",
    "w = input(\"Enter string= \")\n",
    "s =''\n",
    "for i in w:\n",
    "    s+=i\n",
    "    print(s)\n",
    "    time.sleep(3)"
   ]
  },
  {
   "cell_type": "code",
   "execution_count": 104,
   "metadata": {},
   "outputs": [
    {
     "name": "stdout",
     "output_type": "stream",
     "text": [
      "A   \n",
      "B  C   \n",
      "D  E  F   \n",
      "G  H  I  J   \n",
      "K  L  M  N  O   \n",
      "P  Q  R  S  T  U   \n",
      "V  W  X  Y  Z  [  \\   \n"
     ]
    }
   ],
   "source": [
    "a = 65\n",
    "r = 7\n",
    "for i in range (0, r):\n",
    "    for j in range (0, i+1):\n",
    "        ch = chr(a)\n",
    "        print(ch, end = '  ')\n",
    "        a+=1\n",
    "    print(\" \")"
   ]
  },
  {
   "cell_type": "code",
   "execution_count": 112,
   "metadata": {},
   "outputs": [
    {
     "name": "stdout",
     "output_type": "stream",
     "text": [
      "                                                                                                                                A  \n",
      "                                                                                                                               B C  \n",
      "                                                                                                                              D E F  \n",
      "                                                                                                                             G H I J  \n",
      "                                                                                                                            K L M N O  \n"
     ]
    }
   ],
   "source": [
    "a = 65\n",
    "r = 5\n",
    "m=(2*a)-2\n",
    "for i in range (0, r):\n",
    "    for j in range (0, m):\n",
    "        print(end = ' ')\n",
    "    m= m-1\n",
    "    for j in range (0, i+1):\n",
    "        ch = chr(a)\n",
    "        print(ch, end = ' ')\n",
    "        a+=1\n",
    "    print(\" \")"
   ]
  },
  {
   "cell_type": "code",
   "execution_count": 123,
   "metadata": {},
   "outputs": [
    {
     "name": "stdout",
     "output_type": "stream",
     "text": [
      "                                                                                                                                                                                                                                                                A                                                                                                                                                                                                                                                               B C                                                                                                                                                                                                                                                             D E F                                                                                                                                                                                                                                                           G H I J                                                                                                                                                                                                                                                         K L M N O  \n"
     ]
    }
   ],
   "source": [
    "a = 65\n",
    "r = 5\n",
    "m = (2*a)-2\n",
    "for i in range (0, r):\n",
    "    for j in range(0, m):\n",
    "        print(end = \" \")\n",
    "    m= m-1\n",
    "    for j in range (0, i+1):\n",
    "        ch= chr(a)\n",
    "        print(ch, end=' ')\n",
    "        a+=1\n",
    "    print(\" \")"
   ]
  },
  {
   "cell_type": "code",
   "execution_count": 128,
   "metadata": {},
   "outputs": [
    {
     "name": "stdout",
     "output_type": "stream",
     "text": [
      "Enter number of rows:  11\n",
      "1 \n",
      "2 4 \n",
      "3 6 9 \n",
      "4 8 12 16 \n",
      "5 10 15 20 25 \n",
      "6 12 18 24 30 36 \n",
      "7 14 21 28 35 42 49 \n",
      "8 16 24 32 40 48 56 64 \n",
      "9 18 27 36 45 54 63 72 81 \n",
      "10 20 30 40 50 60 70 80 90 100 \n"
     ]
    }
   ],
   "source": [
    "r = int(input(\"Enter number of rows:  \"))\n",
    "for i in range(1, r):\n",
    "    for j in range(1, i+1):\n",
    "        print(j*i, end = \" \")\n",
    "    print()"
   ]
  },
  {
   "cell_type": "code",
   "execution_count": 130,
   "metadata": {},
   "outputs": [
    {
     "name": "stdout",
     "output_type": "stream",
     "text": [
      "50\n"
     ]
    }
   ],
   "source": [
    "def diff(a, b):\n",
    "    return a*b\n",
    "x=10\n",
    "y=5\n",
    "op = diff\n",
    "print(op(x,y))"
   ]
  },
  {
   "cell_type": "code",
   "execution_count": 132,
   "metadata": {},
   "outputs": [
    {
     "name": "stdout",
     "output_type": "stream",
     "text": [
      "vamshi teja\n",
      "vamshi teja\n",
      "vamshi teja\n",
      "vamshi teja\n",
      "vamshi teja\n"
     ]
    }
   ],
   "source": [
    "def fun():\n",
    "    for i in range (5):\n",
    "        print(\"vamshi teja\")\n",
    "fun()"
   ]
  },
  {
   "cell_type": "code",
   "execution_count": 137,
   "metadata": {},
   "outputs": [
    {
     "name": "stdout",
     "output_type": "stream",
     "text": [
      "Difference of a & b is  5\n"
     ]
    }
   ],
   "source": [
    "def diff(a, b):\n",
    "    result = a-b\n",
    "    print(\"Difference of a & b is \", result)\n",
    "x=10\n",
    "y=5\n",
    "diff(x,y)"
   ]
  },
  {
   "cell_type": "code",
   "execution_count": 147,
   "metadata": {},
   "outputs": [
    {
     "name": "stdout",
     "output_type": "stream",
     "text": [
      "Enter a:  21\n",
      "Enter b:  2\n",
      "B should be greater\n",
      "Provide valid input\n"
     ]
    }
   ],
   "source": [
    "def isprime(n):\n",
    "    f=0\n",
    "    for i in range(1,n):\n",
    "        if(n%i==0):\n",
    "            f+=1\n",
    "    if(f==1):\n",
    "        return 1\n",
    "    else:\n",
    "        return 0\n",
    "a = int(input(\"Enter a:  \"))\n",
    "b = int(input(\"Enter b:  \"))\n",
    "if (a>b or a==0 or b==0):\n",
    "    print(\"A should be greater\")\n",
    "    print(\"A should be greater\")\n",
    "    exit\n",
    "else:\n",
    "    i=a\n",
    "    while(i<=b):\n",
    "        if(isprime(i)):\n",
    "            print(i, end = ' ')\n",
    "        i+=1"
   ]
  },
  {
   "cell_type": "code",
   "execution_count": 149,
   "metadata": {},
   "outputs": [
    {
     "name": "stdout",
     "output_type": "stream",
     "text": [
      "Enter a:  2\n",
      "Enter b:  50\n",
      "2 3 5 7 11 13 17 19 23 29 31 37 41 43 47 "
     ]
    }
   ],
   "source": [
    "a = int(input(\"Enter a:  \"))\n",
    "b = int(input(\"Enter b:  \"))\n",
    "if (a>b or a<=0 or b<=0):\n",
    "    print(\"Provide valid input\")\n",
    "else:\n",
    "    while(a<=b):\n",
    "        if a==2:\n",
    "            print(a, end=\" \")\n",
    "        elif(a==1):\n",
    "            a+=1\n",
    "            continue\n",
    "        else:\n",
    "            flag=0\n",
    "            for i in range(2, a//2+1):\n",
    "                if a%i==0:\n",
    "                    flag = 1\n",
    "                    break\n",
    "            if flag == 0:\n",
    "                print(a, end=\" \")\n",
    "        a+=1\n",
    "            "
   ]
  },
  {
   "cell_type": "code",
   "execution_count": 163,
   "metadata": {},
   "outputs": [
    {
     "name": "stdout",
     "output_type": "stream",
     "text": [
      "N=5\n",
      "*       * \n",
      "  *   *   \n",
      "    *     \n",
      "  *   *   \n",
      "*       * \n"
     ]
    }
   ],
   "source": [
    "n=int(input(\"N=\"))\n",
    "for i in range(1,(n+1)):\n",
    "    for j in range(1,n+1):\n",
    "        if(j==n-i+1):\n",
    "            print(\"*\",end=\" \")\n",
    "        elif(i==j):\n",
    "            print(\"*\",end=\" \")\n",
    "        else:\n",
    "            print(\" \", end=\" \")\n",
    "    print()"
   ]
  },
  {
   "cell_type": "code",
   "execution_count": 155,
   "metadata": {},
   "outputs": [
    {
     "name": "stdout",
     "output_type": "stream",
     "text": [
      "N=7\n",
      "      *       \n",
      "      *       \n",
      "      *       \n",
      "* * * * * * * \n",
      "      *       \n",
      "      *       \n",
      "      *       \n"
     ]
    }
   ],
   "source": [
    "n=int(input(\"N=\"))\n",
    "for i in range(1,(n+1)):\n",
    "    for j in range(1,n+1):\n",
    "        if(i==(n//2+1) or j==(n//2+1)):\n",
    "            print(\"*\",end=\" \")\n",
    "        else:\n",
    "            print(\" \", end=\" \")\n",
    "    print()"
   ]
  },
  {
   "cell_type": "code",
   "execution_count": 160,
   "metadata": {},
   "outputs": [
    {
     "name": "stdout",
     "output_type": "stream",
     "text": [
      "N=5\n",
      "        *         \n",
      "        *         \n",
      "        *         \n",
      "        *         \n",
      "* * * * * * * * * \n",
      "        *         \n",
      "        *         \n",
      "        *         \n",
      "        *         \n"
     ]
    }
   ],
   "source": [
    "n=int(input(\"N=\"))\n",
    "for i in range(1,2*n):\n",
    "    for j in range(1,2*n):\n",
    "        if(i==((2*n)//2) or j==((2*n)//2)):\n",
    "            print(\"*\",end=\" \")\n",
    "        else:\n",
    "            print(\" \", end=\" \")\n",
    "    print()"
   ]
  },
  {
   "cell_type": "code",
   "execution_count": 164,
   "metadata": {},
   "outputs": [
    {
     "name": "stdout",
     "output_type": "stream",
     "text": [
      "N=5\n",
      "*               * \n",
      "  *           *   \n",
      "    *       *     \n",
      "      *   *       \n",
      "        *         \n",
      "      *   *       \n",
      "    *       *     \n",
      "  *           *   \n",
      "*               * \n"
     ]
    }
   ],
   "source": [
    "n=int(input(\"N=\"))\n",
    "for i in range(1,2*n):\n",
    "    for j in range(1,2*n):\n",
    "        if(j==2*n-i):\n",
    "            print(\"*\",end=\" \")\n",
    "        elif(i==j):\n",
    "            print(\"*\",end=\" \")\n",
    "        else:\n",
    "            print(\" \", end=\" \")\n",
    "    print()\n"
   ]
  },
  {
   "cell_type": "code",
   "execution_count": 165,
   "metadata": {},
   "outputs": [
    {
     "name": "stdout",
     "output_type": "stream",
     "text": [
      "N=5\n",
      "  * * * * * * *   \n",
      "*   * * * * *   * \n",
      "* *   * * *   * * \n",
      "* * *   *   * * * \n",
      "* * * *   * * * * \n",
      "* * *   *   * * * \n",
      "* *   * * *   * * \n",
      "*   * * * * *   * \n",
      "  * * * * * * *   \n"
     ]
    }
   ],
   "source": [
    "n=int(input(\"N=\"))\n",
    "for i in range(1,2*n):\n",
    "    for j in range(1,2*n):\n",
    "        if(j==2*n-i):\n",
    "            print(\" \",end=\" \")\n",
    "        elif(i==j):\n",
    "            print(\" \",end=\" \")\n",
    "        else:\n",
    "            print(\"*\", end=\" \")\n",
    "    print()\n"
   ]
  },
  {
   "cell_type": "code",
   "execution_count": 166,
   "metadata": {},
   "outputs": [
    {
     "name": "stdout",
     "output_type": "stream",
     "text": [
      "N=5\n",
      "* * * *   * * * * \n",
      "* * * *   * * * * \n",
      "* * * *   * * * * \n",
      "* * * *   * * * * \n",
      "                  \n",
      "* * * *   * * * * \n",
      "* * * *   * * * * \n",
      "* * * *   * * * * \n",
      "* * * *   * * * * \n"
     ]
    }
   ],
   "source": [
    "n=int(input(\"N=\"))\n",
    "for i in range(1,2*n):\n",
    "    for j in range(1,2*n):\n",
    "        if(i==((2*n)//2) or j==((2*n)//2)):\n",
    "            print(\" \",end=\" \")\n",
    "        else:\n",
    "            print(\"*\", end=\" \")\n",
    "    print()"
   ]
  },
  {
   "cell_type": "code",
   "execution_count": 181,
   "metadata": {},
   "outputs": [
    {
     "name": "stdout",
     "output_type": "stream",
     "text": [
      "N=9\n",
      "* * * * * * * * *      \n",
      "* *           * *      \n",
      "*   *       *   *      \n",
      "*     *   *     *      \n",
      "*       *       *      \n",
      "*     *   *     *      \n",
      "*   *       *   *      \n",
      "* *           * *      \n",
      "* * * * * * * * *      \n"
     ]
    }
   ],
   "source": [
    "n=int(input(\"N=\"))\n",
    "for i in range(1,(n+1)):\n",
    "    for j in range(1,n+1):\n",
    "        if(j==n-i+1):\n",
    "            print(\"*\",end=\" \")\n",
    "        elif(i==j):\n",
    "            print(\"*\",end=\" \")\n",
    "        elif(i==1 or i==n or j==1 or j==n):\n",
    "            print(\"*\",end=\" \")\n",
    "        else:\n",
    "            print(\" \", end=\" \")\n",
    "    print(\"     \")\n"
   ]
  },
  {
   "cell_type": "code",
   "execution_count": 182,
   "metadata": {},
   "outputs": [
    {
     "name": "stdout",
     "output_type": "stream",
     "text": [
      "N=9\n",
      "* * * * * * * * * \n",
      "* * * * * * * * * \n",
      "*   * * * * *   * \n",
      "*     * * *     * \n",
      "*       *       * \n",
      "*     * * *     * \n",
      "*   * * * * *   * \n",
      "* * * * * * * * * \n",
      "* * * * * * * * * \n"
     ]
    }
   ],
   "source": [
    "n=int(input(\"N=\"))\n",
    "for i in range(1,(n+1)):\n",
    "    for j in range(1,n+1):\n",
    "        if(j==n-i+1):\n",
    "            print(\"*\",end=\" \")\n",
    "        elif(i==j):\n",
    "            print(\"*\",end=\" \")\n",
    "        elif(i==1 or i==n or j==1 or j==n):\n",
    "            print(\"*\",end=\" \")\n",
    "        elif(i<j and j<n-i+1):\n",
    "            print(\"*\",end=\" \")\n",
    "        elif(i>j and j>n-i+1):\n",
    "            print(\"*\",end=\" \")\n",
    "        else:\n",
    "            print(\" \", end=\" \")\n",
    "    print()"
   ]
  },
  {
   "cell_type": "code",
   "execution_count": 3,
   "metadata": {},
   "outputs": [
    {
     "name": "stdout",
     "output_type": "stream",
     "text": [
      "Move disk 1 from source A to destination C\n",
      "Move disk 2 from source A to destination B\n",
      "Move disk 1 from source C to destination B\n",
      "Move disk 3 from source A to destination C\n",
      "Move disk 1 from source B to destination A\n",
      "Move disk 2 from source B to destination C\n",
      "Move disk 1 from source A to destination C\n",
      "Move disk 4 from source A to destination B\n",
      "Move disk 1 from source C to destination B\n",
      "Move disk 2 from source C to destination A\n",
      "Move disk 1 from source B to destination A\n",
      "Move disk 3 from source C to destination B\n",
      "Move disk 1 from source A to destination C\n",
      "Move disk 2 from source A to destination B\n",
      "Move disk 1 from source C to destination B\n"
     ]
    }
   ],
   "source": [
    "def TowerOfHanoi(n , source, destination, auxiliary):\n",
    "    if n==1:\n",
    "        print (\"Move disk 1 from source\",source,\"to destination\",destination)\n",
    "        return\n",
    "    TowerOfHanoi(n-1, source, auxiliary, destination)\n",
    "    print (\"Move disk\",n,\"from source\",source,\"to destination\",destination)\n",
    "    TowerOfHanoi(n-1, auxiliary, destination, source)\n",
    "         \n",
    "# Driver code\n",
    "n = 4\n",
    "TowerOfHanoi(n,'A','B','C')"
   ]
  },
  {
   "cell_type": "code",
   "execution_count": null,
   "metadata": {},
   "outputs": [],
   "source": []
  },
  {
   "cell_type": "code",
   "execution_count": null,
   "metadata": {},
   "outputs": [],
   "source": []
  }
 ],
 "metadata": {
  "kernelspec": {
   "display_name": "Python 3",
   "language": "python",
   "name": "python3"
  },
  "language_info": {
   "codemirror_mode": {
    "name": "ipython",
    "version": 3
   },
   "file_extension": ".py",
   "mimetype": "text/x-python",
   "name": "python",
   "nbconvert_exporter": "python",
   "pygments_lexer": "ipython3",
   "version": "3.7.3"
  }
 },
 "nbformat": 4,
 "nbformat_minor": 2
}

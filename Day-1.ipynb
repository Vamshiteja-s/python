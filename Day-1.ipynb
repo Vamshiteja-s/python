{
 "cells": [
  {
   "cell_type": "code",
   "execution_count": 1,
   "metadata": {},
   "outputs": [
    {
     "name": "stdout",
     "output_type": "stream",
     "text": [
      "vamshi\n"
     ]
    }
   ],
   "source": [
    "a='vamshi'\n",
    "print(a)"
   ]
  },
  {
   "cell_type": "code",
   "execution_count": 4,
   "metadata": {},
   "outputs": [
    {
     "name": "stdout",
     "output_type": "stream",
     "text": [
      "Enter value of m: 1\n",
      "Enter value of n: 10\n",
      "Sum =  55\n"
     ]
    }
   ],
   "source": [
    "#printing between numbers..........\n",
    "m=int(input(\"Enter value of m: \"))\n",
    "n=int(input(\"Enter value of n: \"))\n",
    "sum=0\n",
    "while(m<=n):\n",
    "    sum=sum+m\n",
    "    m=m+1\n",
    "print(\"Sum = \",sum)"
   ]
  },
  {
   "cell_type": "code",
   "execution_count": 12,
   "metadata": {},
   "outputs": [
    {
     "name": "stdout",
     "output_type": "stream",
     "text": [
      "Enter value of m: 44\n",
      "Sum =  8\n"
     ]
    }
   ],
   "source": [
    "#sum of digits.............\n",
    "m=int(input(\"Enter value of m: \"))\n",
    "sum=0\n",
    "num=m\n",
    "while(0<num):\n",
    "    rem=num%10\n",
    "    sum+=rem\n",
    "    num=num//10\n",
    "print(\"Sum = \",sum)"
   ]
  },
  {
   "cell_type": "code",
   "execution_count": 13,
   "metadata": {},
   "outputs": [
    {
     "name": "stdout",
     "output_type": "stream",
     "text": [
      "Enter value of m: 72\n",
      "Sum =  9\n",
      "72  is the Niven's number\n"
     ]
    }
   ],
   "source": [
    "#Checking for Harshed/Niven's number................ \n",
    "m=int(input(\"Enter value of m: \"))\n",
    "sum=0\n",
    "num=m\n",
    "while(0<num):\n",
    "    rem=num%10\n",
    "    sum+=rem\n",
    "    num=num//10\n",
    "print(\"Sum = \", sum)\n",
    "if(m%sum==0):\n",
    "    print(m, \" is the Niven's number\")\n",
    "else:\n",
    "    print(m, \"is Not a Niven's number\")"
   ]
  },
  {
   "cell_type": "code",
   "execution_count": 16,
   "metadata": {},
   "outputs": [
    {
     "name": "stdout",
     "output_type": "stream",
     "text": [
      "Enter value of m: 123\n",
      "3 2 1 "
     ]
    }
   ],
   "source": [
    "m=int(input(\"Enter value of m: \"))\n",
    "sum=0\n",
    "num=m\n",
    "while(0<num):\n",
    "    rem=num%10\n",
    "    num=num//10\n",
    "    print(rem, end=\" \")"
   ]
  },
  {
   "cell_type": "code",
   "execution_count": 27,
   "metadata": {},
   "outputs": [
    {
     "name": "stdout",
     "output_type": "stream",
     "text": [
      "Enter value of m: 12321\n",
      "12321\n",
      "12321  is the Palindrome\n"
     ]
    }
   ],
   "source": [
    "m=int(input(\"Enter value of m: \"))\n",
    "s=0\n",
    "num=m\n",
    "while(0<num):\n",
    "    rem=num%10\n",
    "    s=s*10+rem\n",
    "    num=num//10\n",
    "print(s)\n",
    "if(s==m):\n",
    "    print(m, \" is the Palindrome\")\n",
    "else:\n",
    "    print(m, \"is Not a Palindrome\")"
   ]
  },
  {
   "cell_type": "code",
   "execution_count": 22,
   "metadata": {},
   "outputs": [
    {
     "name": "stdout",
     "output_type": "stream",
     "text": [
      "4 3 2 1\n"
     ]
    }
   ],
   "source": [
    "#reverse of a number using Join keyword...............\n",
    "num=1234\n",
    "n_str = str(num)\n",
    "r_num = ' '.join(reversed(n_str))\n",
    "print(r_num)"
   ]
  },
  {
   "cell_type": "code",
   "execution_count": 37,
   "metadata": {},
   "outputs": [
    {
     "name": "stdout",
     "output_type": "stream",
     "text": [
      "4321\n"
     ]
    }
   ],
   "source": [
    "#reverse of a number using Function...............\n",
    "def rev(n):\n",
    "    if len(n)==0:\n",
    "        return n\n",
    "    return rev(n[1:]) +n[0]\n",
    "num = 1234\n",
    "n_str = str(num)\n",
    "r_num = rev(n_str)\n",
    "print(r_num)"
   ]
  },
  {
   "cell_type": "code",
   "execution_count": 40,
   "metadata": {},
   "outputs": [
    {
     "name": "stdout",
     "output_type": "stream",
     "text": [
      "Enter value of n: 15\n",
      "Sum  =  120\n",
      "Avg =  8.0\n"
     ]
    }
   ],
   "source": [
    "#average of n numbers..................\n",
    "n=int(input(\"Enter value of n: \"))\n",
    "avg = 0.0\n",
    "s = 0\n",
    "for i in range(1, n+1):\n",
    "    s=s+i\n",
    "avg = s/i\n",
    "print(\"Sum  = \", s)\n",
    "print(\"Avg = \", avg)"
   ]
  },
  {
   "cell_type": "code",
   "execution_count": 44,
   "metadata": {},
   "outputs": [
    {
     "name": "stdout",
     "output_type": "stream",
     "text": [
      "Enter number==5\n",
      "5 * 1 = 5\n",
      "5 * 2 = 10\n",
      "5 * 3 = 15\n",
      "5 * 4 = 20\n",
      "5 * 5 = 25\n",
      "5 * 6 = 30\n",
      "5 * 7 = 35\n",
      "5 * 8 = 40\n",
      "5 * 9 = 45\n",
      "5 * 10 = 50\n"
     ]
    }
   ],
   "source": [
    "#multiplication table...............\n",
    "n=int(input(\"Enter number==\"))\n",
    "for i in range(1, 11):\n",
    "    print(n,\"*\",i,\"=\",n*i)"
   ]
  },
  {
   "cell_type": "code",
   "execution_count": 45,
   "metadata": {},
   "outputs": [
    {
     "name": "stdout",
     "output_type": "stream",
     "text": [
      "Enter number==6\n",
      "6 x 1 = 6\n",
      "6 x 2 = 12\n",
      "6 x 3 = 18\n",
      "6 x 4 = 24\n",
      "6 x 5 = 30\n",
      "6 x 6 = 36\n",
      "6 x 7 = 42\n",
      "6 x 8 = 48\n",
      "6 x 9 = 54\n",
      "6 x 10 = 60\n"
     ]
    }
   ],
   "source": [
    "#multiplication table...............\n",
    "n=int(input(\"Enter number==\"))\n",
    "for i in range(1, 11):\n",
    "    print(f\"{n} x {i} = {n*i}\")"
   ]
  },
  {
   "cell_type": "code",
   "execution_count": 58,
   "metadata": {},
   "outputs": [
    {
     "name": "stdout",
     "output_type": "stream",
     "text": [
      "leap years:\n",
      "1900      1904      1908      1912      1916      1920      1924      1928      1932      1936      1940      1944      1948      1952      1956      1960      1964      1968      1972      1976      1980      1984      1988      1992      1996      2000      2004      2008      2012      2016      2020      2024      2028      2032      2036      2040      2044      2048      2052      2056      2060      2064      2068      2072      2076      2080      2084      2088      2092      2096      2100      \n",
      "Non leap years:\n",
      "1901      1902      1903      1905      1906      1907      1909      1910      1911      1913      1914      1915      1917      1918      1919      1921      1922      1923      1925      1926      1927      1929      1930      1931      1933      1934      1935      1937      1938      1939      1941      1942      1943      1945      1946      1947      1949      1950      1951      1953      1954      1955      1957      1958      1959      1961      1962      1963      1965      1966      1967      1969      1970      1971      1973      1974      1975      1977      1978      1979      1981      1982      1983      1985      1986      1987      1989      1990      1991      1993      1994      1995      1997      1998      1999      2001      2002      2003      2005      2006      2007      2009      2010      2011      2013      2014      2015      2017      2018      2019      2021      2022      2023      2025      2026      2027      2029      2030      2031      2033      2034      2035      2037      2038      2039      2041      2042      2043      2045      2046      2047      2049      2050      2051      2053      2054      2055      2057      2058      2059      2061      2062      2063      2065      2066      2067      2069      2070      2071      2073      2074      2075      2077      2078      2079      2081      2082      2083      2085      2086      2087      2089      2090      2091      2093      2094      2095      2097      2098      2099      "
     ]
    }
   ],
   "source": [
    "#leap and non leap years....................\n",
    "print(\"leap years:\")\n",
    "for i in range(1900, 2101):\n",
    "    if(i%4==0):\n",
    "        print(i, end=\"      \")\n",
    "print(\"\\nNon leap years:\")\n",
    "for i in range(1900, 2101):\n",
    "    if(i%4!=0):\n",
    "        print(i, end=\"      \")\n"
   ]
  },
  {
   "cell_type": "code",
   "execution_count": 65,
   "metadata": {},
   "outputs": [
    {
     "name": "stdout",
     "output_type": "stream",
     "text": [
      "Enter the nth term: 8\n",
      "The sum of 1,1/2,....... 1/ 8 is  2.7178571428571425\n"
     ]
    }
   ],
   "source": [
    "#sum of Nth term..................\n",
    "n= int(input(\"Enter the nth term: \"))\n",
    "s=0.0\n",
    "for i in range(1, n+1):\n",
    "    a= 1.0/i\n",
    "    s=s+a\n",
    "print(\"The sum of 1,1/2,....... 1/\",str(n)+ \" is  \"+str(s))"
   ]
  },
  {
   "cell_type": "code",
   "execution_count": 68,
   "metadata": {},
   "outputs": [
    {
     "name": "stdout",
     "output_type": "stream",
     "text": [
      "Enter the nth term: 4\n",
      "1/1 +  1/4 +  1/9 +  1/16  =  1.4236111111111112\n"
     ]
    }
   ],
   "source": [
    "#Sum of Nth term squaring the denominators..................\n",
    "n= int(input(\"Enter the nth term: \"))\n",
    "s=0.0\n",
    "for i in range(1, n):\n",
    "    a= 1.0/(i*i)\n",
    "    s=s+a\n",
    "    print(f\"1/{i*i} + \", end = \" \")\n",
    "s+=1.0/(n*n)\n",
    "print(f\"1/{n*n}\", end =\" \")\n",
    "print(\" = \",s)"
   ]
  },
  {
   "cell_type": "code",
   "execution_count": 5,
   "metadata": {},
   "outputs": [
    {
     "name": "stdout",
     "output_type": "stream",
     "text": [
      "Enter the nth term: 5\n",
      "1/1 +  1/2 +  1/3 +  1/4 +  1/5  =  2.283333333333333\n"
     ]
    }
   ],
   "source": [
    "n= int(input(\"Enter the nth term: \"))\n",
    "s=0.0\n",
    "for i in range(1, n):\n",
    "    a= 1.0/(i)\n",
    "    s=s+a\n",
    "    print(f\"1/{i} + \", end = \" \")\n",
    "s+=1.0/(n)\n",
    "print(f\"1/{n}\", end =\" \")\n",
    "print(\" = \",s)"
   ]
  },
  {
   "cell_type": "code",
   "execution_count": 4,
   "metadata": {},
   "outputs": [
    {
     "name": "stdout",
     "output_type": "stream",
     "text": [
      "Vamshi\n"
     ]
    }
   ],
   "source": [
    "#capitalize keyword\n",
    "s=\"vamshi\"\n",
    "print(s.capitalize())"
   ]
  },
  {
   "cell_type": "code",
   "execution_count": 6,
   "metadata": {},
   "outputs": [],
   "source": [
    "#pascals triangle\n",
    "#floyd's triangle\n",
    "#ceaser cipher\n",
    "#zfill\n",
    "#Hollo triangle{set squares}"
   ]
  },
  {
   "cell_type": "code",
   "execution_count": 11,
   "metadata": {},
   "outputs": [
    {
     "name": "stdout",
     "output_type": "stream",
     "text": [
      "$$$vamshi$$\n"
     ]
    }
   ],
   "source": [
    "#center keyword..............\n",
    "s=\"vamshi\"\n",
    "print(s.center(11,'$'))"
   ]
  },
  {
   "cell_type": "code",
   "execution_count": 18,
   "metadata": {},
   "outputs": [
    {
     "name": "stdout",
     "output_type": "stream",
     "text": [
      "3\n"
     ]
    }
   ],
   "source": [
    "#count string\n",
    "string = \"Sv\"\n",
    "substring=\"lSvlSvlllSvllSVlllsvl\"\n",
    "print(substring.count(string,0,len(substring)))"
   ]
  },
  {
   "cell_type": "code",
   "execution_count": 19,
   "metadata": {},
   "outputs": [
    {
     "name": "stdout",
     "output_type": "stream",
     "text": [
      "4\n"
     ]
    }
   ],
   "source": [
    "#find keyword\n",
    "str=\"hlo hi\"\n",
    "print(str.find(\"hi\",0,len(str)))"
   ]
  },
  {
   "cell_type": "code",
   "execution_count": 22,
   "metadata": {},
   "outputs": [
    {
     "name": "stdout",
     "output_type": "stream",
     "text": [
      "hi^^^^^^^^^^^^^^^^^^\n",
      "^^^^^^^^^^^^^^^^^^hi\n"
     ]
    }
   ],
   "source": [
    "#symntax for left justification\n",
    "s=\"hi\"\n",
    "print(s.ljust(20,'^'))\n",
    "print(s.rjust(20,'^'))"
   ]
  },
  {
   "cell_type": "code",
   "execution_count": 25,
   "metadata": {},
   "outputs": [
    {
     "name": "stdout",
     "output_type": "stream",
     "text": [
      "007\n"
     ]
    }
   ],
   "source": [
    "#zfill(width)\n",
    "s=\"7\"\n",
    "print(s.zfill(3))"
   ]
  },
  {
   "cell_type": "code",
   "execution_count": 26,
   "metadata": {},
   "outputs": [
    {
     "name": "stdout",
     "output_type": "stream",
     "text": [
      "Hlo Hi\n"
     ]
    }
   ],
   "source": [
    "#Title keyword\n",
    "str=\"hlo hi\"\n",
    "print(str.title())"
   ]
  },
  {
   "cell_type": "code",
   "execution_count": 30,
   "metadata": {},
   "outputs": [
    {
     "name": "stdout",
     "output_type": "stream",
     "text": [
      "Hlo Hi Hw Are You\n",
      "Hlo Hi Hw Are You\n"
     ]
    }
   ],
   "source": [
    "#Title and swapcase  keyword\n",
    "str=\"hLO hI hW aRE yOU\"\n",
    "print(str.title())\n",
    "print(str.swapcase())"
   ]
  },
  {
   "cell_type": "code",
   "execution_count": 31,
   "metadata": {},
   "outputs": [
    {
     "name": "stdout",
     "output_type": "stream",
     "text": [
      "[(0, 'T'), (1, 'r'), (2, 'i'), (3, 'b'), (4, 'u'), (5, 't'), (6, 'e'), (7, ' '), (8, 't'), (9, 'o'), (10, ' '), (11, 'c'), (12, 'a'), (13, 'p'), (14, 't'), (15, 'a'), (16, 'i'), (17, 'n'), (18, ' '), (19, 'J'), (20, 'A'), (21, 'c'), (22, 'k'), (23, ' '), (24, 'S'), (25, 'p'), (26, 'a'), (27, 'r'), (28, 'r'), (29, 'o'), (30, 'w')]\n"
     ]
    }
   ],
   "source": [
    "#Using enumeration\n",
    "str = \"Tribute to captain Jack Sparrow\"\n",
    "print(list(enumerate(str)))"
   ]
  },
  {
   "cell_type": "code",
   "execution_count": 32,
   "metadata": {},
   "outputs": [
    {
     "name": "stdout",
     "output_type": "stream",
     "text": [
      "M y s e l f   V a m s h i "
     ]
    }
   ],
   "source": [
    "#space between letters\n",
    "str = \"Myself Vamshi\"\n",
    "for i in str:\n",
    "    print(i, end=\" \")"
   ]
  },
  {
   "cell_type": "code",
   "execution_count": 46,
   "metadata": {},
   "outputs": [
    {
     "name": "stdout",
     "output_type": "stream",
     "text": [
      "X c o u j k \" v g l c "
     ]
    }
   ],
   "source": [
    "#ceaser cipher\n",
    "str = \"Vamshi teja\"\n",
    "index = 0\n",
    "while index < len(str):\n",
    "    letter = str[index]     \n",
    "    print(chr(ord(letter)+2), end=\" \") #ord is used to convert char to ascii\n",
    "    index+=1"
   ]
  },
  {
   "cell_type": "code",
   "execution_count": 51,
   "metadata": {},
   "outputs": [
    {
     "name": "stdout",
     "output_type": "stream",
     "text": [
      "aTeja\n",
      "bTeja\n",
      "cTeja\n",
      "dTeja\n",
      "eTeja\n"
     ]
    }
   ],
   "source": [
    "#Abecedarian series\n",
    "s=\"Teja\"\n",
    "v=['a','b','c','d','e']\n",
    "for i in v:\n",
    "    print(i+s)"
   ]
  },
  {
   "cell_type": "code",
   "execution_count": 56,
   "metadata": {},
   "outputs": [
    {
     "name": "stdout",
     "output_type": "stream",
     "text": [
      "0 0 7 6 14 12 21 18 28 24 35 30 42 36 49 42 56 48 63 54 70 60 "
     ]
    }
   ],
   "source": [
    "#In  a series of numbers we have to find the 12th nd 13th position elements\n",
    "for i in range (0, 11):\n",
    "    print(7*i, end=\" \")\n",
    "    print(6*i, end=\" \")\n",
    "    "
   ]
  },
  {
   "cell_type": "code",
   "execution_count": 75,
   "metadata": {},
   "outputs": [
    {
     "name": "stdout",
     "output_type": "stream",
     "text": [
      "Enter the position12\n",
      "12 at accordance 30\n"
     ]
    }
   ],
   "source": [
    "val= int(input(\"Enter the position\"))\n",
    "a=b=0\n",
    "for i in range(1, val+1):\n",
    "    if(i%2!=0):\n",
    "        a=a+7\n",
    "    else:\n",
    "        b=b+6\n",
    "if(val%2!=0):\n",
    "    print('{} at accordance {}'.format(val,a-7))\n",
    "else:\n",
    "    print('{} at accordance {}'.format(val,b-6))"
   ]
  },
  {
   "cell_type": "code",
   "execution_count": 69,
   "metadata": {},
   "outputs": [
    {
     "name": "stdout",
     "output_type": "stream",
     "text": [
      "Enter the position: 13\n",
      "[1, 1, 2, 3, 4, 9, 8, 27, 16, 81, 32, 243, 64, 729, 128, 2187, 256, 6561, 512, 19683]\n",
      "13 at accordance 64\n"
     ]
    }
   ],
   "source": [
    "#position finding\n",
    "j,k = 0,0\n",
    "v=int(input(\"Enter the position: \"))\n",
    "l=[]\n",
    "for i in range(0,20):\n",
    "    if(i%2==0):\n",
    "        l.append(2**j)\n",
    "        j+=1\n",
    "    else:\n",
    "        l.append(3**k)\n",
    "        k+=1\n",
    "print(l)\n",
    "print(f\"{v} at accordance {l[v-1]}\")"
   ]
  },
  {
   "cell_type": "code",
   "execution_count": 79,
   "metadata": {},
   "outputs": [
    {
     "name": "stdout",
     "output_type": "stream",
     "text": [
      "Enter the position: 12\n",
      "Present position of a:  64\n",
      "Present position of b:  729\n",
      "12 at accordance 243\n"
     ]
    }
   ],
   "source": [
    "#Position finding\n",
    "val= int(input(\"Enter the position: \"))\n",
    "a=b=1\n",
    "for i in range(1, val+1):\n",
    "    if(i%2!=0):\n",
    "        a=a*2\n",
    "    else:\n",
    "        b=b*3\n",
    "print(\"Present position of a: \", a)\n",
    "print(\"Present position of b: \",b)\n",
    "if(val%2!=0):\n",
    "    print('{} at accordance {}'.format(val,a//2))\n",
    "else:\n",
    "    print('{} at accordance {}'.format(val,b//3))"
   ]
  },
  {
   "cell_type": "code",
   "execution_count": null,
   "metadata": {},
   "outputs": [],
   "source": []
  }
 ],
 "metadata": {
  "kernelspec": {
   "display_name": "Python 3",
   "language": "python",
   "name": "python3"
  },
  "language_info": {
   "codemirror_mode": {
    "name": "ipython",
    "version": 3
   },
   "file_extension": ".py",
   "mimetype": "text/x-python",
   "name": "python",
   "nbconvert_exporter": "python",
   "pygments_lexer": "ipython3",
   "version": "3.7.3"
  }
 },
 "nbformat": 4,
 "nbformat_minor": 2
}

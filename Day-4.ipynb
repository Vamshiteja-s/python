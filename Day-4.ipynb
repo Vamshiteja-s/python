{
 "cells": [
  {
   "cell_type": "code",
   "execution_count": 3,
   "metadata": {},
   "outputs": [
    {
     "name": "stdout",
     "output_type": "stream",
     "text": [
      "22\n"
     ]
    }
   ],
   "source": [
    "#Program to access class var using a class object\n",
    "class abc:\n",
    "    var=22\n",
    "obj = abc()\n",
    "print(obj.var)"
   ]
  },
  {
   "cell_type": "code",
   "execution_count": 5,
   "metadata": {},
   "outputs": [
    {
     "name": "stdout",
     "output_type": "stream",
     "text": [
      "22\n",
      "This is class method...\n"
     ]
    }
   ],
   "source": [
    "#Program to access class var using a class object\n",
    "class abc:\n",
    "    var=22\n",
    "    def show(self):\n",
    "        print(\"This is class method...\")\n",
    "obj = abc()\n",
    "print(obj.var)\n",
    "obj.show()"
   ]
  },
  {
   "cell_type": "code",
   "execution_count": 14,
   "metadata": {},
   "outputs": [
    {
     "name": "stdout",
     "output_type": "stream",
     "text": [
      "This is class method...\n"
     ]
    },
    {
     "ename": "TypeError",
     "evalue": "cannot unpack non-iterable int object",
     "output_type": "error",
     "traceback": [
      "\u001b[1;31m---------------------------------------------------------------------------\u001b[0m",
      "\u001b[1;31mTypeError\u001b[0m                                 Traceback (most recent call last)",
      "\u001b[1;32m<ipython-input-14-8a33d157b005>\u001b[0m in \u001b[0;36m<module>\u001b[1;34m\u001b[0m\n\u001b[0;32m      5\u001b[0m         \u001b[0mself\u001b[0m\u001b[1;33m.\u001b[0m\u001b[0mval\u001b[0m\u001b[1;33m,\u001b[0m\u001b[0mval1\u001b[0m \u001b[1;33m=\u001b[0m \u001b[0mval\u001b[0m\u001b[1;33m\u001b[0m\u001b[1;33m\u001b[0m\u001b[0m\n\u001b[0;32m      6\u001b[0m         \u001b[0mprint\u001b[0m\u001b[1;33m(\u001b[0m\u001b[0mval\u001b[0m\u001b[1;33m)\u001b[0m\u001b[1;33m\u001b[0m\u001b[1;33m\u001b[0m\u001b[0m\n\u001b[1;32m----> 7\u001b[1;33m \u001b[0mobj\u001b[0m \u001b[1;33m=\u001b[0m \u001b[0mabc\u001b[0m\u001b[1;33m(\u001b[0m\u001b[1;36m10\u001b[0m\u001b[1;33m,\u001b[0m\u001b[1;36m21\u001b[0m\u001b[1;33m)\u001b[0m\u001b[1;33m\u001b[0m\u001b[1;33m\u001b[0m\u001b[0m\n\u001b[0m",
      "\u001b[1;32m<ipython-input-14-8a33d157b005>\u001b[0m in \u001b[0;36m__init__\u001b[1;34m(self, val, val1)\u001b[0m\n\u001b[0;32m      3\u001b[0m     \u001b[1;32mdef\u001b[0m \u001b[0m__init__\u001b[0m\u001b[1;33m(\u001b[0m\u001b[0mself\u001b[0m\u001b[1;33m,\u001b[0m \u001b[0mval\u001b[0m\u001b[1;33m,\u001b[0m\u001b[0mval1\u001b[0m\u001b[1;33m)\u001b[0m\u001b[1;33m:\u001b[0m\u001b[1;33m\u001b[0m\u001b[1;33m\u001b[0m\u001b[0m\n\u001b[0;32m      4\u001b[0m         \u001b[0mprint\u001b[0m\u001b[1;33m(\u001b[0m\u001b[1;34m\"This is class method...\"\u001b[0m\u001b[1;33m)\u001b[0m\u001b[1;33m\u001b[0m\u001b[1;33m\u001b[0m\u001b[0m\n\u001b[1;32m----> 5\u001b[1;33m         \u001b[0mself\u001b[0m\u001b[1;33m.\u001b[0m\u001b[0mval\u001b[0m\u001b[1;33m,\u001b[0m\u001b[0mval1\u001b[0m \u001b[1;33m=\u001b[0m \u001b[0mval\u001b[0m\u001b[1;33m\u001b[0m\u001b[1;33m\u001b[0m\u001b[0m\n\u001b[0m\u001b[0;32m      6\u001b[0m         \u001b[0mprint\u001b[0m\u001b[1;33m(\u001b[0m\u001b[0mval\u001b[0m\u001b[1;33m)\u001b[0m\u001b[1;33m\u001b[0m\u001b[1;33m\u001b[0m\u001b[0m\n\u001b[0;32m      7\u001b[0m \u001b[0mobj\u001b[0m \u001b[1;33m=\u001b[0m \u001b[0mabc\u001b[0m\u001b[1;33m(\u001b[0m\u001b[1;36m10\u001b[0m\u001b[1;33m,\u001b[0m\u001b[1;36m21\u001b[0m\u001b[1;33m)\u001b[0m\u001b[1;33m\u001b[0m\u001b[1;33m\u001b[0m\u001b[0m\n",
      "\u001b[1;31mTypeError\u001b[0m: cannot unpack non-iterable int object"
     ]
    }
   ],
   "source": [
    "#Program to access class var using a class object\n",
    "class abc:\n",
    "    def __init__(self, val,val1):\n",
    "        print(\"This is class method...\")\n",
    "        self.val,val1 = val\n",
    "        print(val)\n",
    "obj = abc(10,21)"
   ]
  },
  {
   "cell_type": "code",
   "execution_count": 15,
   "metadata": {},
   "outputs": [
    {
     "name": "stdout",
     "output_type": "stream",
     "text": [
      "The object var is  10\n",
      "The class value of c-var =  1\n",
      "The object var is  20\n",
      "The class value of c-var =  2\n",
      "The object var is  30\n",
      "The class value of c-var =  3\n"
     ]
    }
   ],
   "source": [
    "class abc():\n",
    "    class_var = 0 #class var\n",
    "    def __init__(self, var):\n",
    "        abc.class_var +=1\n",
    "        self.var = var #obj \n",
    "        print(\"The object var is \", var)\n",
    "        print(\"The class value of c-var = \", abc.class_var)\n",
    "obj1 = abc(10)\n",
    "obj2 = abc(20)\n",
    "obj3 = abc(30)"
   ]
  },
  {
   "cell_type": "code",
   "execution_count": 24,
   "metadata": {},
   "outputs": [
    {
     "name": "stdout",
     "output_type": "stream",
     "text": [
      "55\n",
      "55 is odd\n"
     ]
    }
   ],
   "source": [
    "class num:\n",
    "    even=0\n",
    "    def check(self, n):\n",
    "        if n%2==0:\n",
    "            self.even=1\n",
    "    def even_odd(self, n):\n",
    "        self.check(n)\n",
    "        if self.even == 1:\n",
    "            print(n, \"is even\")\n",
    "        else:\n",
    "            print(n, \"is odd\")\n",
    "n=int(input())\n",
    "obj=num()\n",
    "obj.even_odd(n)"
   ]
  },
  {
   "cell_type": "code",
   "execution_count": null,
   "metadata": {},
   "outputs": [],
   "source": []
  },
  {
   "cell_type": "code",
   "execution_count": null,
   "metadata": {},
   "outputs": [],
   "source": [
    "#delete method---- C++/ Java analogus to destructors\n",
    "#general syntax__del__\n",
    "class abc():\n",
    "    "
   ]
  },
  {
   "cell_type": "code",
   "execution_count": 25,
   "metadata": {},
   "outputs": [
    {
     "name": "stdout",
     "output_type": "stream",
     "text": [
      "Evens  [1010, 174, 14]\n",
      "Odds  [85, 111, 41]\n"
     ]
    }
   ],
   "source": [
    "class Number:\n",
    "    evens = []\n",
    "    odds = []\n",
    "    def __init__(self,  num):\n",
    "        self.num = num\n",
    "        if(num%2==0):\n",
    "            Number.evens.append(num)\n",
    "        else:\n",
    "            Number.odds.append(num)\n",
    "n1 = Number(85)\n",
    "n2 = Number(1010)\n",
    "n3 = Number(111)\n",
    "n4 = Number(174)\n",
    "n5 = Number(14)\n",
    "n6= Number(41)\n",
    "print(\"Evens \",Number.evens)\n",
    "print(\"Odds \",Number.odds)"
   ]
  },
  {
   "cell_type": "code",
   "execution_count": 46,
   "metadata": {},
   "outputs": [
    {
     "name": "stdout",
     "output_type": "stream",
     "text": [
      "the object value is  10\n",
      "the class value is  1\n",
      "the object value is  11\n",
      "the class value is  2\n",
      "the object value is  12\n",
      "the class value is  3\n",
      "the object with value  10   is going out of scope \n",
      "the class value is  2\n",
      "the object with value  12   is going out of scope \n",
      "the class value is  1\n",
      "the object with value  11   is going out of scope \n",
      "the class value is  0\n"
     ]
    }
   ],
   "source": [
    "#demonstrate delete method\n",
    "class abc():\n",
    "    class_var=0\n",
    "    def __init__(self,var):\n",
    "        abc.class_var+=1\n",
    "        self.var=var\n",
    "        print(\"the object value is \",var)\n",
    "        print(\"the class value is \",abc.class_var)\n",
    "        \n",
    "    def __del__(self):\n",
    "        abc.class_var-=1\n",
    "        print(\"the object with value \",self.var,\"  is going out of scope \")\n",
    "        print(\"the class value is \",abc.class_var)\n",
    "        \n",
    "obj=abc(10)\n",
    "ob1=abc(11)\n",
    "ob2=abc(12)\n",
    "del obj\n",
    "del ob2\n",
    "del ob1"
   ]
  },
  {
   "cell_type": "markdown",
   "metadata": {},
   "source": [
    "1.__repr__----Syntax report of the object\n",
    "2.__cmp__----compares two class objects\n",
    "3.__len__----len(object)\n",
    "4.__call__---it acts like a function to call its instances\n",
    "5.__it__, __le__, __eq__, __ne__, __gt__, __ge__--- compares 2 objects based on instances\n",
    "6.__iter__----iteration over an object\n",
    "7.__getitem__----used for indexing\n",
    "    gs: def __getitem__(self, var/key)\n",
    "8.setitem assign an item to the indexed value"
   ]
  },
  {
   "cell_type": "code",
   "execution_count": 43,
   "metadata": {},
   "outputs": [
    {
     "name": "stdout",
     "output_type": "stream",
     "text": [
      "4\n",
      "[1, 2, 3, 4, 5, 6, 7, 8, 9]\n",
      "[1, 2, 3, 10, 5, 6, 7, 8, 9]\n",
      "10\n"
     ]
    }
   ],
   "source": [
    "#set item in the list\n",
    "class number:\n",
    "    def __init__(self, mylist):\n",
    "        self.mylist = mylist\n",
    "    def __getitem__(self, index):\n",
    "        return self.mylist[index]\n",
    "    def __setitem__(self, index, val):\n",
    "        self.mylist[index] = val\n",
    "numlist = number([1,2,3,4,5,6,7,8,9])\n",
    "print(numlist[3])\n",
    "print(numlist.mylist)\n",
    "numlist[3]=10\n",
    "print(numlist.mylist)\n",
    "print(numlist[3])"
   ]
  },
  {
   "cell_type": "code",
   "execution_count": 47,
   "metadata": {},
   "outputs": [
    {
     "name": "stdout",
     "output_type": "stream",
     "text": [
      "7\n",
      "7 is odd\n"
     ]
    }
   ],
   "source": [
    "#program to illustrating a modification on numerics\n",
    "class Number:\n",
    "    even=0\n",
    "    def check(self,num):\n",
    "        if num%2==0:\n",
    "            self.even=1\n",
    "    def even_odd(self,var):\n",
    "        self.check(num)\n",
    "        if self.even==1:\n",
    "            print(num,\"is even\")\n",
    "        else:\n",
    "            print(num,\"is odd\")\n",
    "num=int(input())\n",
    "obj=Number()\n",
    "obj.even_odd(num)"
   ]
  },
  {
   "cell_type": "code",
   "execution_count": 49,
   "metadata": {},
   "outputs": [
    {
     "name": "stdout",
     "output_type": "stream",
     "text": [
      "Enter a list of numbers: 2 1 3 1 3 1221 3321 34223 98765 34567 9876\n",
      "even : [2, 9876]\n",
      "odd : [1, 3, 1, 3, 1221, 3321, 34223, 98765, 34567]\n"
     ]
    }
   ],
   "source": [
    "class number:\n",
    "    global e\n",
    "    global o\n",
    "    e=[]\n",
    "    o=[]\n",
    "    \n",
    "    def even_odd(self,num):\n",
    "        if num%2==0:\n",
    "            e.append(num)\n",
    "        else:\n",
    "            o.append(num)\n",
    "    def show(self):\n",
    "        print(\"even :\",e)\n",
    "        print(\"odd :\",o)\n",
    "\n",
    "ob=number()\n",
    "\n",
    "l=input(\"Enter a list of numbers: \").split()\n",
    "l=[int(i) for i in l]\n",
    "i=0\n",
    "for i in l:\n",
    "    ob.even_odd(i)\n",
    "ob.show()"
   ]
  },
  {
   "cell_type": "code",
   "execution_count": 71,
   "metadata": {},
   "outputs": [
    {
     "name": "stdout",
     "output_type": "stream",
     "text": [
      "the value stored in obj is 10\n",
      "the length of the name stored in obj 4\n",
      "2nd value is less than 1st\n"
     ]
    }
   ],
   "source": [
    "class abc():\n",
    "    def __init__(self,name,var):\n",
    "        self.name=name\n",
    "        self.var=var\n",
    "    def __repr__(self):\n",
    "        return repr(self.var)\n",
    "    def __len__(self):\n",
    "        return len(self.name)\n",
    "    def __cmp__(self,obj):\n",
    "        return self.var- obj.var\n",
    "obj=abc('abcd',10)\n",
    "print('the value stored in obj is',repr(obj))\n",
    "print('the length of the name stored in obj',len(obj))\n",
    "obj1=abc('efgh',1)\n",
    "val=obj.__cmp__ (obj1)\n",
    "if val==0:\n",
    "    print(\"both values are equal\")\n",
    "elif val==1:\n",
    "    print('1st value is less than second')\n",
    "else:\n",
    "    print('2nd value is less than 1st')"
   ]
  },
  {
   "cell_type": "code",
   "execution_count": 68,
   "metadata": {},
   "outputs": [
    {
     "name": "stdout",
     "output_type": "stream",
     "text": [
      "001\n"
     ]
    }
   ],
   "source": [
    "print(bin(112345)[16:])"
   ]
  },
  {
   "cell_type": "code",
   "execution_count": 75,
   "metadata": {},
   "outputs": [
    {
     "name": "stdout",
     "output_type": "stream",
     "text": [
      "This is from class method: Var= 10\n"
     ]
    }
   ],
   "source": [
    "#is for illustrating use of a private method\n",
    "class abc():\n",
    "    def __init__(self,var):\n",
    "        self.__var=var\n",
    "    def __display(self):\n",
    "        print('This is from class method: Var=',self.__var)\n",
    "obj=abc(10)\n",
    "obj._abc__display()"
   ]
  },
  {
   "cell_type": "code",
   "execution_count": 76,
   "metadata": {},
   "outputs": [
    {
     "name": "stdout",
     "output_type": "stream",
     "text": [
      "var is = 12\n"
     ]
    }
   ],
   "source": [
    "#to call a class method form another method of same class\n",
    "class abc():\n",
    "    def __init__(self,var):\n",
    "        self.var=var\n",
    "    def display(self):\n",
    "        print('var is =',self.var)\n",
    "    def add_2(self):\n",
    "        self.var+=2\n",
    "        self.display()\n",
    "obj=abc(10)\n",
    "obj.add_2()"
   ]
  },
  {
   "cell_type": "code",
   "execution_count": 78,
   "metadata": {},
   "outputs": [
    {
     "name": "stdout",
     "output_type": "stream",
     "text": [
      "var is= 10\n",
      "var is= 100\n"
     ]
    }
   ],
   "source": [
    "#program to show how a class method calls a function which is defined in the global name space\n",
    "def scale_10(x):\n",
    "    return x*10\n",
    "class abc():\n",
    "    def __init__(self,var):\n",
    "        self.var=var\n",
    "    def display(self):\n",
    "        print('var is=',self.var)\n",
    "    def modify(self):\n",
    "        self.var=scale_10(self.var)\n",
    "obj=abc(10)\n",
    "obj.display()\n",
    "obj.modify()\n",
    "obj.display()"
   ]
  },
  {
   "cell_type": "markdown",
   "metadata": {},
   "source": [
    "### Built  in attributes for set,get and delete  \n",
    "1. hasattr(obj, name) - Checks object posesses the attributes values or not\n",
    "2. getattr(obj, name[,default])\n",
    "3. setattr(obj, name, value) --- Which is used to set an attribute of the object\n",
    "4. delattr(obj, name)"
   ]
  },
  {
   "cell_type": "code",
   "execution_count": 79,
   "metadata": {},
   "outputs": [
    {
     "name": "stdout",
     "output_type": "stream",
     "text": [
      "var is 10\n",
      "check whether obj has attribute var? True\n",
      "after setting value,var is 50\n",
      "new variable count is created and its val= 10\n",
      "after deleting the attr,var is= 40\n"
     ]
    }
   ],
   "source": [
    "#program to demo built in\n",
    "class abc():\n",
    "    def __init__(self,var):\n",
    "        self.var=var\n",
    "    def display(self):\n",
    "        print('var is',self.var)\n",
    "obj=abc(10)\n",
    "obj.display()\n",
    "print('check whether obj has attribute var?',hasattr(obj,'var'))\n",
    "getattr(obj,'var')\n",
    "setattr(obj,'var',50)\n",
    "print('after setting value,var is',obj.var)\n",
    "setattr(obj,'count',10)\n",
    "print('new variable count is created and its val=',obj.count)\n",
    "delattr(obj,'var')\n",
    "setattr(obj ,'var',40)\n",
    "print('after deleting the attr,var is=',obj.var)"
   ]
  },
  {
   "cell_type": "markdown",
   "metadata": {},
   "source": [
    "### Built  in-class attributes\n",
    "1. .__dict__\n",
    "2. .__doc__\n",
    "3. .__name__\n",
    "4. .__bases__"
   ]
  },
  {
   "cell_type": "code",
   "execution_count": null,
   "metadata": {},
   "outputs": [],
   "source": []
  }
 ],
 "metadata": {
  "kernelspec": {
   "display_name": "Python 3",
   "language": "python",
   "name": "python3"
  },
  "language_info": {
   "codemirror_mode": {
    "name": "ipython",
    "version": 3
   },
   "file_extension": ".py",
   "mimetype": "text/x-python",
   "name": "python",
   "nbconvert_exporter": "python",
   "pygments_lexer": "ipython3",
   "version": "3.7.3"
  }
 },
 "nbformat": 4,
 "nbformat_minor": 2
}

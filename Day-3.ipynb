{
 "cells": [
  {
   "cell_type": "code",
   "execution_count": 3,
   "metadata": {},
   "outputs": [
    {
     "name": "stdout",
     "output_type": "stream",
     "text": [
      "20\n"
     ]
    }
   ],
   "source": [
    "#functions\n",
    "#arguments with return type\n",
    "def add(x,y):\n",
    "    return x+y\n",
    "a=10\n",
    "b=10\n",
    "op = add\n",
    "print(op(a,b))"
   ]
  },
  {
   "cell_type": "code",
   "execution_count": 5,
   "metadata": {},
   "outputs": [
    {
     "name": "stdout",
     "output_type": "stream",
     "text": [
      "20\n"
     ]
    }
   ],
   "source": [
    "#without arguments without return type\n",
    "def add():\n",
    "    a=10\n",
    "    b=10\n",
    "    print(a+b)\n",
    "add()"
   ]
  },
  {
   "cell_type": "markdown",
   "metadata": {},
   "source": [
    "*GLOBAL VARIABLE - It declares the local or the inner variables of the function to have module scope "
   ]
  },
  {
   "cell_type": "code",
   "execution_count": 9,
   "metadata": {},
   "outputs": [
    {
     "name": "stdout",
     "output_type": "stream",
     "text": [
      "Inside the function var1 is -  HI\n",
      "Outside the function var2 is -  Good Morning\n",
      "var1 is -  HI\n",
      "var2 is -  Good Morning\n"
     ]
    }
   ],
   "source": [
    "#Global variable\n",
    "var1 = \"HI\"\n",
    "def a():\n",
    "    global var2\n",
    "    var2 = \"Good Morning\"\n",
    "    print(\"Inside the function var1 is - \", var1)\n",
    "a()\n",
    "print(\"Outside the function var2 is - \", var2)\n",
    "print(\"var1 is - \", var1)\n",
    "print(\"var2 is - \", var2)\n"
   ]
  },
  {
   "cell_type": "code",
   "execution_count": 10,
   "metadata": {},
   "outputs": [
    {
     "name": "stdout",
     "output_type": "stream",
     "text": [
      "Inside the function var1 is -  Good Morning\n",
      "Outside the function var2 is -  Good Morning\n",
      "Outside the function after modify -  Very Good\n"
     ]
    }
   ],
   "source": [
    "#Modifying Global variable\n",
    "var1 = \"HI\"\n",
    "def a():\n",
    "    global var1\n",
    "    var1 = \"Good Morning\"\n",
    "    print(\"Inside the function var1 is - \", var1)\n",
    "a()\n",
    "print(\"Outside the function var2 is - \", var1)\n",
    "var1 = \"Very Good\"\n",
    "print(\"Outside the function after modify - \", var1)"
   ]
  },
  {
   "cell_type": "code",
   "execution_count": 22,
   "metadata": {},
   "outputs": [
    {
     "name": "stdout",
     "output_type": "stream",
     "text": [
      "Inner Variable  22\n",
      "Outer Variable  11\n"
     ]
    }
   ],
   "source": [
    "#program to demo access of var in inner & outer func\n",
    "def outer_fun():\n",
    "    outer_var =11\n",
    "    def inner_fun():\n",
    "        inner_var= 22\n",
    "        print(\"Inner Variable \", inner_var)\n",
    "    inner_fun()\n",
    "    print(\"Outer Variable \", outer_var)\n",
    "outer_fun()"
   ]
  },
  {
   "cell_type": "code",
   "execution_count": 29,
   "metadata": {},
   "outputs": [
    {
     "name": "stdout",
     "output_type": "stream",
     "text": [
      "Cube of 10  =  1000\n",
      "1000\n"
     ]
    }
   ],
   "source": [
    "#Writing a function and return its cubation format\n",
    "def cube(x):\n",
    "    return(x*x*x)\n",
    "\n",
    "num = 10\n",
    "result = cube(num) #cube(10)\n",
    "print(\"Cube of\", num, \" = \", result)\n",
    "print(result)"
   ]
  },
  {
   "cell_type": "code",
   "execution_count": 31,
   "metadata": {},
   "outputs": [
    {
     "name": "stdout",
     "output_type": "stream",
     "text": [
      "Vamshi teja 1044\n"
     ]
    }
   ],
   "source": [
    "def a(x):\n",
    "    print(\"Vamshi teja\", x)\n",
    "a(1044)"
   ]
  },
  {
   "cell_type": "markdown",
   "metadata": {},
   "source": [
    "### lambda function\n",
    "1. lambda fun have no names\n",
    "2. it can take n number of attributes\n",
    "3. it can only return one value\n",
    "4. lambda fun cannot access global variable\n",
    "5. cannot access variables other than parameters list\n",
    "6. cannot contain multi parameters\n",
    "7. doesnot have explict return statements"
   ]
  },
  {
   "cell_type": "code",
   "execution_count": 1,
   "metadata": {},
   "outputs": [
    {
     "name": "stdout",
     "output_type": "stream",
     "text": [
      "the string is  hi\n",
      "the integer is  12\n",
      "the float is  5678.9876\n"
     ]
    }
   ],
   "source": [
    "#demo key args\n",
    "def display(str,int_x,float_y):\n",
    "    print('the string is ',str)\n",
    "    print('the integer is ',int_x)\n",
    "    print('the float is ',float_y)\n",
    "display(float_y=5678.9876,str=\"hi\",int_x=12)"
   ]
  },
  {
   "cell_type": "code",
   "execution_count": 2,
   "metadata": {},
   "outputs": [
    {
     "name": "stdout",
     "output_type": "stream",
     "text": [
      "sum= 60\n"
     ]
    }
   ],
   "source": [
    "addition = lambda x,y,z:x+y+z\n",
    "print('sum=',addition(10,20,30))"
   ]
  },
  {
   "cell_type": "code",
   "execution_count": 6,
   "metadata": {},
   "outputs": [
    {
     "name": "stdout",
     "output_type": "stream",
     "text": [
      "Smaller of two no.  -3\n"
     ]
    }
   ],
   "source": [
    "#Smallest of 2 numbers....................\n",
    "def small(a,b):\n",
    "    if(a<b):\n",
    "        return a\n",
    "    else:\n",
    "        return b\n",
    "add = lambda x,y : x+y\n",
    "diff = lambda x,y : x-y\n",
    "print(\"Smaller of two no. \", small(add(-3, 3), diff(-1,2)))"
   ]
  },
  {
   "cell_type": "code",
   "execution_count": 7,
   "metadata": {},
   "outputs": [
    {
     "name": "stdout",
     "output_type": "stream",
     "text": [
      "a = 100\n",
      "a after incrementing = \n",
      "101\n"
     ]
    }
   ],
   "source": [
    "def increment(y):\n",
    "    return (lambda x: x+1)(y)\n",
    "a = 100\n",
    "print(\"a =\",a)\n",
    "print(\"a after incrementing = \")\n",
    "b = increment(a)\n",
    "print(b)"
   ]
  },
  {
   "cell_type": "code",
   "execution_count": 8,
   "metadata": {},
   "outputs": [
    {
     "name": "stdout",
     "output_type": "stream",
     "text": [
      "8\n",
      "9\n"
     ]
    }
   ],
   "source": [
    "#program to pass a lambda function as a function argument\n",
    "def fun(f, n):\n",
    "    print(f(n)) #twice (4)\n",
    "twice = lambda x:x*2\n",
    "triple =lambda x:x*3\n",
    "fun(twice,4)\n",
    "fun(triple,3)"
   ]
  },
  {
   "cell_type": "code",
   "execution_count": 10,
   "metadata": {},
   "outputs": [
    {
     "name": "stdout",
     "output_type": "stream",
     "text": [
      "27\n"
     ]
    }
   ],
   "source": [
    "add = lambda x,y: x+y\n",
    "m_and_add = lambda x,y,z : x*add(y,z)\n",
    "print(m_and_add(3,4,5))"
   ]
  },
  {
   "cell_type": "code",
   "execution_count": 11,
   "metadata": {},
   "outputs": [
    {
     "name": "stdout",
     "output_type": "stream",
     "text": [
      "55\n"
     ]
    }
   ],
   "source": [
    "x = lambda: sum(range(1,11))\n",
    "print(x())"
   ]
  },
  {
   "cell_type": "code",
   "execution_count": 13,
   "metadata": {},
   "outputs": [
    {
     "name": "stdout",
     "output_type": "stream",
     "text": [
      "A == 44\n",
      "B == 24\n",
      "Before Swapping: \n",
      "A=  44\n",
      "B=  24\n",
      "After sawpping: \n",
      "A=  24\n",
      "B=  44\n"
     ]
    }
   ],
   "source": [
    "#swap using function\n",
    "def shift(a,b):\n",
    "    a,b=b,a\n",
    "    print(\"After sawpping: \")\n",
    "    print(\"A= \",a)\n",
    "    print(\"B= \",b)\n",
    "a = int(input(\"A == \"))\n",
    "b = int(input(\"B == \"))\n",
    "print(\"Before Swapping: \")\n",
    "print(\"A= \",a)\n",
    "print(\"B= \",b)\n",
    "shift(a,b)"
   ]
  },
  {
   "cell_type": "code",
   "execution_count": 14,
   "metadata": {},
   "outputs": [
    {
     "name": "stdout",
     "output_type": "stream",
     "text": [
      "Enter 1st name= Vamshi \n",
      "Enter 2nd name= Singarapu\n",
      "Vamshi  Singarapu\n"
     ]
    }
   ],
   "source": [
    "def name(a,b):\n",
    "    print(f'{a} {b}')\n",
    "x=input(\"Enter 1st name= \")\n",
    "y=input(\"Enter 2nd name= \")\n",
    "name(x,y)"
   ]
  },
  {
   "cell_type": "code",
   "execution_count": 15,
   "metadata": {},
   "outputs": [
    {
     "name": "stdout",
     "output_type": "stream",
     "text": [
      "Vamshi teja Singarapu\n"
     ]
    }
   ],
   "source": [
    "def name(fn,ln):\n",
    "    s = \" \"\n",
    "    n = fn+s+ln\n",
    "    return n\n",
    "print(name(\"Vamshi teja\", \"Singarapu\"))"
   ]
  },
  {
   "cell_type": "code",
   "execution_count": 1,
   "metadata": {},
   "outputs": [
    {
     "name": "stdout",
     "output_type": "stream",
     "text": [
      "Enter age:54\n",
      "SI: 60.0\n"
     ]
    }
   ],
   "source": [
    "def roi(a):\n",
    "    return 12 if a>=60 else 10\n",
    "a=int(input(\"Enter age:\"))\n",
    "p=200\n",
    "r=3\n",
    "e=roi(a)\n",
    "p=(p*r*e)/100\n",
    "print(\"SI:\",p)"
   ]
  },
  {
   "cell_type": "code",
   "execution_count": 3,
   "metadata": {},
   "outputs": [
    {
     "name": "stdout",
     "output_type": "stream",
     "text": [
      "N= 3\n",
      "M= 4\n",
      "Result =  81\n"
     ]
    }
   ],
   "source": [
    "#program to find the exp(x,y) using recurssion function\n",
    "def expo(x,y):\n",
    "    if(y==0):\n",
    "        return 1\n",
    "    else:\n",
    "        return(x*expo(x,y-1))\n",
    "n=int(input(\"N= \"))\n",
    "m=int(input(\"M= \"))\n",
    "print(\"Result = \",expo(n,m))"
   ]
  },
  {
   "cell_type": "code",
   "execution_count": 13,
   "metadata": {},
   "outputs": [
    {
     "name": "stdout",
     "output_type": "stream",
     "text": [
      "N=10\n",
      "Number 1= 0\n",
      "Number 2= 1\n",
      "Number 3 = 1\n",
      "Number 4 = 2\n",
      "Number 5 = 3\n",
      "Number 6 = 5\n",
      "Number 7 = 8\n",
      "Number 8 = 13\n",
      "Number 9 = 21\n",
      "Number 10 = 34\n"
     ]
    }
   ],
   "source": [
    "f0=0\n",
    "f1=1\n",
    "n = int(input(\"N=\"))\n",
    "print(\"Number 1=\",f0)\n",
    "print(\"Number 2=\",f1)\n",
    "for i in range (2,n):\n",
    "    f2=f0+f1\n",
    "    print(\"Number\",i+1,\"=\", f2)\n",
    "    f0=f1\n",
    "    f1=f2"
   ]
  },
  {
   "cell_type": "code",
   "execution_count": 20,
   "metadata": {},
   "outputs": [
    {
     "name": "stdout",
     "output_type": "stream",
     "text": [
      "Enter the Range= 10\n",
      "Fibonacci ( 1 ) =  0\n",
      "Fibonacci ( 2 ) =  1\n",
      "Fibonacci ( 3 ) =  1\n",
      "Fibonacci ( 4 ) =  2\n",
      "Fibonacci ( 5 ) =  3\n",
      "Fibonacci ( 6 ) =  5\n",
      "Fibonacci ( 7 ) =  8\n",
      "Fibonacci ( 8 ) =  13\n",
      "Fibonacci ( 9 ) =  21\n",
      "Fibonacci ( 10 ) =  34\n"
     ]
    }
   ],
   "source": [
    "#fibonacci series\n",
    "def fibb(n):\n",
    "    if(n==0):\n",
    "        return 0\n",
    "    elif(n==1):\n",
    "        return 1\n",
    "    else:\n",
    "        return(fibb(n-1)+fibb(n-2))\n",
    "n=int(input(\"Enter the Range= \"))\n",
    "for i in range (0, n):\n",
    "    print(\"Fibonacci (\",i+1,\") = \", fibb(i))"
   ]
  },
  {
   "cell_type": "code",
   "execution_count": 29,
   "metadata": {},
   "outputs": [
    {
     "name": "stdout",
     "output_type": "stream",
     "text": [
      "Enter number of disks: 4\n",
      "Disk - 1 Moves from A to B\n",
      "Disk - 2 Moves from A to C\n",
      "Disk - 1 Moves from B to C\n",
      "Disk - 3 Moves from A to B\n",
      "Disk - 1 Moves from C to A\n",
      "Disk - 2 Moves from C to B\n",
      "Disk - 1 Moves from A to B\n",
      "Disk - 4 Moves from A to C\n",
      "Disk - 1 Moves from B to C\n",
      "Disk - 2 Moves from B to A\n",
      "Disk - 1 Moves from C to A\n",
      "Disk - 3 Moves from B to C\n",
      "Disk - 1 Moves from A to B\n",
      "Disk - 2 Moves from A to C\n",
      "Disk - 1 Moves from B to C\n"
     ]
    }
   ],
   "source": [
    "#tower of hanoi\n",
    "def toh(n,a,b,c):\n",
    "    if(n==1):\n",
    "        print(\"Disk -\",n,\"Moves from\", a, \"to\", c)\n",
    "        return\n",
    "    toh(n-1, a, c, b)\n",
    "    print(\"Disk -\",n, \"Moves from\",a, \"to\", c)\n",
    "    toh(n-1,b,a,c)\n",
    "n = int(input(\"Enter number of disks: \"))\n",
    "toh(n,\"A\",\"B\",\"C\")"
   ]
  },
  {
   "cell_type": "code",
   "execution_count": 35,
   "metadata": {},
   "outputs": [
    {
     "name": "stdout",
     "output_type": "stream",
     "text": [
      "[1, 2, 3, 4] [] []\n",
      "[] [] [1, 2, 3, 4]\n"
     ]
    }
   ],
   "source": [
    "def hanoi(n, A,B,C):\n",
    "    if(n>0):\n",
    "        hanoi(n-1, A,C,B)\n",
    "        if A:\n",
    "            C.append(A.pop())\n",
    "        hanoi(n-1, B,A,C)\n",
    "A = [1,2,3,4]\n",
    "B=[]\n",
    "C=[]\n",
    "print(A,B,C)\n",
    "hanoi(len(A),A,B,C)\n",
    "print(A,B,C)"
   ]
  },
  {
   "cell_type": "code",
   "execution_count": 41,
   "metadata": {},
   "outputs": [
    {
     "name": "stdout",
     "output_type": "stream",
     "text": [
      "enter str with charte*a\n",
      "enter str for matchtejja\n",
      "with wild char: te*a\n",
      "without wild char: tejja\n",
      "True\n"
     ]
    }
   ],
   "source": [
    "# check if 2 strings match where one string contains wildcard char\n",
    "def solve(a,b):\n",
    "    n,m=len(a),len(b)\n",
    "    if n==0 and m==0:\n",
    "        return True\n",
    "    if n>1 and a[0]=='*' and m==0:\n",
    "        return False\n",
    "    if (n>1 and a[0]=='?')or(n!=0and m!=0 and a[0]==b[0]):\n",
    "        return solve(a[1:],b[1:])\n",
    "    if n!=0and a[0]=='*':\n",
    "        return solve (a[1:],b)or solve (a,b[1:])\n",
    "        return false\n",
    "x=str(input(\"enter str with char\"))\n",
    "y=str(input(\"enter str for match\"))\n",
    "print(\"with wild char:\",x)\n",
    "print(\"without wild char:\",y)\n",
    "print(solve(x,y))"
   ]
  },
  {
   "cell_type": "code",
   "execution_count": 43,
   "metadata": {},
   "outputs": [
    {
     "name": "stdout",
     "output_type": "stream",
     "text": [
      "6\n",
      "2 7 1 4 9 5\n",
      "2 4 1 5 7 9 "
     ]
    }
   ],
   "source": [
    "n=int(input())\n",
    "if(n<=0):\n",
    "    print(\"Invalid Input\")\n",
    "    exit\n",
    "x=input().split()\n",
    "x=[int(i) for i in x]\n",
    "o=[]\n",
    "e=[]\n",
    "for i in x:\n",
    "    if(i%2==0):\n",
    "        e.append(i)\n",
    "    else:\n",
    "        o.append(i)\n",
    "e.sort()\n",
    "o.sort()\n",
    "l=e+o\n",
    "for i in l:\n",
    "    print(i,end=\" \")"
   ]
  },
  {
   "cell_type": "code",
   "execution_count": null,
   "metadata": {},
   "outputs": [],
   "source": []
  }
 ],
 "metadata": {
  "kernelspec": {
   "display_name": "Python 3",
   "language": "python",
   "name": "python3"
  },
  "language_info": {
   "codemirror_mode": {
    "name": "ipython",
    "version": 3
   },
   "file_extension": ".py",
   "mimetype": "text/x-python",
   "name": "python",
   "nbconvert_exporter": "python",
   "pygments_lexer": "ipython3",
   "version": "3.7.3"
  }
 },
 "nbformat": 4,
 "nbformat_minor": 2
}

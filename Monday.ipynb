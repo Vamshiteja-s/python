{
 "cells": [
  {
   "cell_type": "code",
   "execution_count": 6,
   "metadata": {},
   "outputs": [
    {
     "name": "stdout",
     "output_type": "stream",
     "text": [
      "enter the number of users:5\n",
      "enter user name:Vamshi\n",
      "enter password:4579\n",
      "enter user name:Shiva\n",
      "enter password:4488\n",
      "enter user name:Teju\n",
      "enter password:8832\n",
      "enter user name:Varsha\n",
      "enter password:5993\n",
      "enter user name:Ananth\n",
      "enter password:4545\n",
      "{'Vamshi': '4579', 'Shiva': '4488', 'Teju': '8832', 'Varsha': '5993', 'Ananth': '4545'}\n"
     ]
    }
   ],
   "source": [
    "d={}\n",
    "l=[]\n",
    "n=int(input(\"enter the number of users:\"))\n",
    "for i in range(n):\n",
    "    k=input(\"enter user name:\")\n",
    "    y=input(\"enter password:\")\n",
    "    l.append(k)\n",
    "    d[k]=y\n",
    "print(d)"
   ]
  },
  {
   "cell_type": "markdown",
   "metadata": {},
   "source": [
    "{'Vamshi': '4579', 'Shiva': '4488', 'Teju': '8832', 'Varsha': '5993', 'Ananth': '4545'}"
   ]
  },
  {
   "cell_type": "code",
   "execution_count": 7,
   "metadata": {},
   "outputs": [
    {
     "name": "stdout",
     "output_type": "stream",
     "text": [
      "{'Vamshi': '4579', 'Shiva': '4488', 'Teju': '8832', 'Varsha': '5993', 'Ananth': '4545'}\n"
     ]
    }
   ],
   "source": [
    "print(d)"
   ]
  },
  {
   "cell_type": "code",
   "execution_count": 10,
   "metadata": {},
   "outputs": [
    {
     "name": "stdout",
     "output_type": "stream",
     "text": [
      "enter username:Vamshi\n",
      "Enter password:4579\n",
      "Login Successfull\n"
     ]
    }
   ],
   "source": [
    "u=input(\"enter username:\")\n",
    "p=input(\"Enter password:\")\n",
    "if u in l:\n",
    "    if d[u]==p:\n",
    "        print(\"Login Successfull\")\n",
    "    else:\n",
    "        print(\"Wrong password\")\n",
    "else:\n",
    "    print(\"Wrong username\")"
   ]
  },
  {
   "cell_type": "code",
   "execution_count": 16,
   "metadata": {},
   "outputs": [
    {
     "name": "stdout",
     "output_type": "stream",
     "text": [
      "Enter your choice:Rock\n",
      "Computer choice Scissors\n",
      "Player won\n"
     ]
    }
   ],
   "source": [
    "import random\n",
    "n=input(\"Enter your choice:\")\n",
    "l=[\"Rock\",\"Paper\",\"Scissors\"]\n",
    "s=random.choice(l)\n",
    "print(\"Computer choice\",s)\n",
    "\n",
    "if n==\"Rock\" or n==\"rock\":\n",
    "    if s==\"Scissors\" or s==\"scissors\":\n",
    "        print(\"Player won\")\n",
    "    elif s==\"Rock\" or s==\"rock\":\n",
    "        print(\"DRAW\")\n",
    "    else:\n",
    "        print(\"Computer won\")\n",
    "elif n==\"Scissors\" or n==\"scissors\":\n",
    "    if s==\"Paper\" or s==\"paper\":\n",
    "        print(\"Player won\")\n",
    "    elif s==\"Scissors\" or s==\"scissors\":\n",
    "        print(\"DRAW\")\n",
    "    else:\n",
    "        print(\"Computer won\")\n",
    "elif n==\"Paper\" or n==\"paper\":\n",
    "    if s==\"Rock\" or s==\"rock\":\n",
    "        print(\"Player won\")\n",
    "    elif s==\"Paper\" or s==\"paper\":\n",
    "        print(\"DRAW\")\n",
    "    else:\n",
    "        print(\"Computer won\")\n",
    "else:\n",
    "    print(\"Invalid input\")"
   ]
  },
  {
   "cell_type": "code",
   "execution_count": 17,
   "metadata": {},
   "outputs": [
    {
     "name": "stdout",
     "output_type": "stream",
     "text": [
      "*******ROCK PAPER SCISSORS*******\n",
      "\n",
      "\n",
      "ROUND  1\n",
      "\n",
      "Enter your choice:Rock\n",
      "Computer choice Rock\n",
      "DRAW\n",
      "ROUND  2\n",
      "\n",
      "Enter your choice:Paper\n",
      "Computer choice Rock\n",
      "Player won\n",
      "ROUND  3\n",
      "\n",
      "Enter your choice:Scissors\n",
      "Computer choice Scissors\n",
      "DRAW\n",
      "ROUND  4\n",
      "\n",
      "Enter your choice:Rock\n",
      "Computer choice Paper\n",
      "Computer won\n",
      "ROUND  5\n",
      "\n",
      "Enter your choice:Rock\n",
      "Computer choice Scissors\n",
      "Player won\n",
      "\n",
      "\n",
      "\n",
      "Player won the match\n"
     ]
    }
   ],
   "source": [
    "import random\n",
    "print(\"*******ROCK PAPER SCISSORS*******\\n\\n\")\n",
    "i=0\n",
    "j=0\n",
    "no=0\n",
    "while(no!=5):\n",
    "    print(\"ROUND \",no+1);\n",
    "    print()\n",
    "    n=input(\"Enter your choice:\")\n",
    "    l=[\"Rock\",\"Paper\",\"Scissors\"]\n",
    "    s=random.choice(l)\n",
    "    print(\"Computer choice\",s)\n",
    "    if n==\"Rock\" or n==\"rock\":\n",
    "        if s==\"Scissors\" or s==\"scissors\":\n",
    "            print(\"Player won\")\n",
    "            i+=1\n",
    "        elif s==\"Rock\" or s==\"rock\":\n",
    "            print(\"DRAW\")\n",
    "        else:\n",
    "            print(\"Computer won\")\n",
    "            j+=1\n",
    "    elif n==\"Scissors\" or n==\"scissors\":\n",
    "        if s==\"Paper\" or s==\"paper\":\n",
    "            print(\"Player won\")\n",
    "            i+=1\n",
    "        elif s==\"Scissors\" or s==\"scissors\":\n",
    "            print(\"DRAW\")\n",
    "        else:\n",
    "            print(\"Computer won\")\n",
    "            j+=1\n",
    "    elif n==\"Paper\" or n==\"paper\":\n",
    "        if s==\"Rock\" or s==\"rock\":\n",
    "            print(\"Player won\")\n",
    "            i+=1\n",
    "        elif s==\"Paper\" or s==\"paper\":\n",
    "            print(\"DRAW\")\n",
    "        else:\n",
    "            print(\"Computer won\")\n",
    "            j+=1\n",
    "    else:\n",
    "        print(\"INVALID INPUT\")\n",
    "    no+=1\n",
    "print(\"\\n\\n\")\n",
    "if(i>j):\n",
    "    print(\"Player won the match\")\n",
    "else:\n",
    "    print(\"Computer won the match\")"
   ]
  },
  {
   "cell_type": "code",
   "execution_count": null,
   "metadata": {},
   "outputs": [],
   "source": []
  }
 ],
 "metadata": {
  "kernelspec": {
   "display_name": "Python 3",
   "language": "python",
   "name": "python3"
  },
  "language_info": {
   "codemirror_mode": {
    "name": "ipython",
    "version": 3
   },
   "file_extension": ".py",
   "mimetype": "text/x-python",
   "name": "python",
   "nbconvert_exporter": "python",
   "pygments_lexer": "ipython3",
   "version": "3.7.3"
  }
 },
 "nbformat": 4,
 "nbformat_minor": 2
}

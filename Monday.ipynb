{
 "cells": [
  {
   "cell_type": "code",
   "execution_count": 6,
   "metadata": {},
   "outputs": [
    {
     "name": "stdout",
     "output_type": "stream",
     "text": [
      "enter the number of users:5\n",
      "enter user name:Vamshi\n",
      "enter password:4579\n",
      "enter user name:Shiva\n",
      "enter password:4488\n",
      "enter user name:Teju\n",
      "enter password:8832\n",
      "enter user name:Varsha\n",
      "enter password:5993\n",
      "enter user name:Ananth\n",
      "enter password:4545\n",
      "{'Vamshi': '4579', 'Shiva': '4488', 'Teju': '8832', 'Varsha': '5993', 'Ananth': '4545'}\n"
     ]
    }
   ],
   "source": [
    "d={}\n",
    "l=[]\n",
    "n=int(input(\"enter the number of users:\"))\n",
    "for i in range(n):\n",
    "    k=input(\"enter user name:\")\n",
    "    y=input(\"enter password:\")\n",
    "    l.append(k)\n",
    "    d[k]=y\n",
    "print(d)"
   ]
  },
  {
   "cell_type": "markdown",
   "metadata": {},
   "source": [
    "{'Vamshi': '4579', 'Shiva': '4488', 'Teju': '8832', 'Varsha': '5993', 'Ananth': '4545'}"
   ]
  },
  {
   "cell_type": "code",
   "execution_count": 7,
   "metadata": {},
   "outputs": [
    {
     "name": "stdout",
     "output_type": "stream",
     "text": [
      "{'Vamshi': '4579', 'Shiva': '4488', 'Teju': '8832', 'Varsha': '5993', 'Ananth': '4545'}\n"
     ]
    }
   ],
   "source": [
    "print(d)"
   ]
  },
  {
   "cell_type": "code",
   "execution_count": 10,
   "metadata": {},
   "outputs": [
    {
     "name": "stdout",
     "output_type": "stream",
     "text": [
      "enter username:Vamshi\n",
      "Enter password:4579\n",
      "Login Successfull\n"
     ]
    }
   ],
   "source": [
    "u=input(\"enter username:\")\n",
    "p=input(\"Enter password:\")\n",
    "if u in l:\n",
    "    if d[u]==p:\n",
    "        print(\"Login Successfull\")\n",
    "    else:\n",
    "        print(\"Wrong password\")\n",
    "else:\n",
    "    print(\"Wrong username\")"
   ]
  },
  {
   "cell_type": "code",
   "execution_count": null,
   "metadata": {},
   "outputs": [],
   "source": []
  }
 ],
 "metadata": {
  "kernelspec": {
   "display_name": "Python 3",
   "language": "python",
   "name": "python3"
  },
  "language_info": {
   "codemirror_mode": {
    "name": "ipython",
    "version": 3
   },
   "file_extension": ".py",
   "mimetype": "text/x-python",
   "name": "python",
   "nbconvert_exporter": "python",
   "pygments_lexer": "ipython3",
   "version": "3.7.3"
  }
 },
 "nbformat": 4,
 "nbformat_minor": 2
}

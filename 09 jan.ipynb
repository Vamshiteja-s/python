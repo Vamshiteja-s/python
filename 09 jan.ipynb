{
 "cells": [
  {
   "cell_type": "code",
   "execution_count": 1,
   "metadata": {},
   "outputs": [
    {
     "name": "stdout",
     "output_type": "stream",
     "text": [
      "Sorted array is\n",
      "5 6 7 11 12 13 "
     ]
    }
   ],
   "source": [
    "def heapify(arr, N, i):\n",
    "\tlargest = i # Initialize largest as root\n",
    "\tl = 2 * i + 1\t # left = 2*i + 1\n",
    "\tr = 2 * i + 2\t # right = 2*i + 2\n",
    "\n",
    "\t# See if left child of root exists and is\n",
    "\t# greater than root\n",
    "\tif l < N and arr[largest] < arr[l]:\n",
    "\t\tlargest = l\n",
    "\n",
    "\t# See if right child of root exists and is\n",
    "\t# greater than root\n",
    "\tif r < N and arr[largest] < arr[r]:\n",
    "\t\tlargest = r\n",
    "\n",
    "\t# Change root, if needed\n",
    "\tif largest != i:\n",
    "\t\tarr[i], arr[largest] = arr[largest], arr[i] # swap\n",
    "\n",
    "\t\t# Heapify the root.\n",
    "\t\theapify(arr, N, largest)\n",
    "\n",
    "# The main function to sort an array of given size\n",
    "\n",
    "\n",
    "def heapSort(arr):\n",
    "\tN = len(arr)\n",
    "\n",
    "\t# Build a maxheap.\n",
    "\tfor i in range(N//2 - 1, -1, -1):\n",
    "\t\theapify(arr, N, i)\n",
    "\n",
    "\t# One by one extract elements\n",
    "\tfor i in range(N-1, 0, -1):\n",
    "\t\tarr[i], arr[0] = arr[0], arr[i] # swap\n",
    "\t\theapify(arr, i, 0)\n",
    "\n",
    "\n",
    "# Driver's code\n",
    "if __name__ == '__main__':\n",
    "\tarr = [12, 11, 13, 5, 6, 7]\n",
    "\n",
    "\t# Function call\n",
    "\theapSort(arr)\n",
    "\tN = len(arr)\n",
    "\n",
    "\tprint(\"Sorted array is\")\n",
    "\tfor i in range(N):\n",
    "\t\tprint(\"%d\" % arr[i], end=\" \")\n",
    "# This code is contributed by Mohit Kumra\n"
   ]
  },
  {
   "cell_type": "code",
   "execution_count": 1,
   "metadata": {},
   "outputs": [
    {
     "name": "stdout",
     "output_type": "stream",
     "text": [
      "8\n",
      "10 98 3 33 12 22 21 11\n",
      "10 98 12 22 3 33 21 11 "
     ]
    }
   ],
   "source": [
    "\n",
    "n=int(input())\n",
    "if(n<=0):\n",
    "    print(\"Invalid Input\")\n",
    "    quit()\n",
    "x=input().split()\n",
    "x=[int(i) for i in x]\n",
    "o=[]\n",
    "e=[]\n",
    "for i in range (0, n):\n",
    "    if(x[i]%2==0):\n",
    "        e.append(x[i])\n",
    "    else:\n",
    "        o.append(x[i])\n",
    "\n",
    "x=[]\n",
    "l=e+o\n",
    "for i in l:\n",
    "    print(i, end=\" \")"
   ]
  },
  {
   "cell_type": "code",
   "execution_count": 2,
   "metadata": {},
   "outputs": [
    {
     "ename": "SyntaxError",
     "evalue": "Missing parentheses in call to 'print'. Did you mean print(\"dict['Name']: \", dict['Name'])? (<ipython-input-2-ef87792fe422>, line 2)",
     "output_type": "error",
     "traceback": [
      "\u001b[1;36m  File \u001b[1;32m\"<ipython-input-2-ef87792fe422>\"\u001b[1;36m, line \u001b[1;32m2\u001b[0m\n\u001b[1;33m    print \"dict['Name']: \", dict['Name']\u001b[0m\n\u001b[1;37m                         ^\u001b[0m\n\u001b[1;31mSyntaxError\u001b[0m\u001b[1;31m:\u001b[0m Missing parentheses in call to 'print'. Did you mean print(\"dict['Name']: \", dict['Name'])?\n"
     ]
    }
   ],
   "source": [
    "'''write a program to combine list to a dictionary to form a hash table\n",
    "input: keys=['name','age','branch']\n",
    "       values=['ABC','100','aeronautical']'''\n",
    "\n"
   ]
  },
  {
   "cell_type": "code",
   "execution_count": 3,
   "metadata": {},
   "outputs": [
    {
     "name": "stdout",
     "output_type": "stream",
     "text": [
      "[{'Bool': 'True', 'Data': 'Int'}, {'Bool': 'True', 'Data': 'Float'}, {'Bool': 'True', 'Data': 'Long Long'}, {'Bool': 'False', 'Data': 'Int'}, {'Bool': 'False', 'Data': 'Float'}, {'Bool': 'False', 'Data': 'Long Long'}]\n"
     ]
    }
   ],
   "source": [
    "Input = {\n",
    "\"Bool\" : [\"True\", \"False\"],\n",
    "\"Data\" : [\"Int\", \"Float\", \"Long Long\"],\n",
    "}\n",
    "import itertools as it\n",
    "sorted_Input = sorted(Input)\n",
    "Output = [dict(zip(sorted_Input, prod))\n",
    "for prod in it.product(*(Input[sorted_Input]\n",
    "for sorted_Input in sorted_Input))]\n",
    "print(Output)"
   ]
  },
  {
   "cell_type": "code",
   "execution_count": 5,
   "metadata": {},
   "outputs": [
    {
     "name": "stdout",
     "output_type": "stream",
     "text": [
      "name age branch\n",
      "Vamshi 20 CSE\n",
      "{'name': 'Vamshi', 'age': '20', 'branch': 'CSE'}\n"
     ]
    }
   ],
   "source": [
    "l=input().split()\n",
    "v=input().split()\n",
    "ou=zip(l,v)\n",
    "d=dict(ou)\n",
    "print(d)"
   ]
  },
  {
   "cell_type": "code",
   "execution_count": 6,
   "metadata": {},
   "outputs": [
    {
     "name": "stdout",
     "output_type": "stream",
     "text": [
      "{(0, 3): 1, (1, 0): 2, (1, 4): 3, (2, 3): 4}\n"
     ]
    }
   ],
   "source": [
    "'''write a program to store a sparse matrix in a dictionary\n",
    "example:[[0,0,0,1,0],\n",
    "         [2,0,0,0,1],\n",
    "         [0,0,0,4,0]]'''\n",
    "\n",
    "a=[[0,0,0,1,0],[2,0,0,0,3],[0,0,0,4,0]]\n",
    "d={}\n",
    "for i in range(len(a)):\n",
    "    for j in range(len(a[i])):\n",
    "        if(a[i][j]!=0):\n",
    "            d[i,j]=a[i][j]\n",
    "print(d)"
   ]
  },
  {
   "cell_type": "code",
   "execution_count": 8,
   "metadata": {},
   "outputs": [
    {
     "name": "stdout",
     "output_type": "stream",
     "text": [
      "level\n",
      "v\n"
     ]
    }
   ],
   "source": [
    "n=input()\n",
    "c=0\n",
    "mi=999\n",
    "m=''\n",
    "ch=''\n",
    "for i in range(len(n)):\n",
    "    m=n[i]\n",
    "    c=0\n",
    "    for j in range(len(n)):\n",
    "        if m==n[j]:\n",
    "            c+=1\n",
    "    if c<mi:\n",
    "        mi=c\n",
    "        ch=m\n",
    "print(ch)"
   ]
  },
  {
   "cell_type": "code",
   "execution_count": 11,
   "metadata": {},
   "outputs": [
    {
     "name": "stdout",
     "output_type": "stream",
     "text": [
      "ujjwal\n",
      "u w a l "
     ]
    }
   ],
   "source": [
    "str=input()\n",
    "for i in range(len(str)):\n",
    "    if(str.count(str[i])==1):\n",
    "        print(str[i],end=\" \")"
   ]
  },
  {
   "cell_type": "code",
   "execution_count": 13,
   "metadata": {},
   "outputs": [
    {
     "name": "stdout",
     "output_type": "stream",
     "text": [
      "the non-repeated char is  N\n",
      "the non-repeated char is  D\n",
      "the non-repeated char is  A\n"
     ]
    }
   ],
   "source": [
    "'''write a non-repeated character in a string \n",
    "example: i/p: 1.level\n",
    "         o/p: 2. v'''\n",
    "str='INDIA'\n",
    "for i in str:\n",
    "    count=0\n",
    "    for j in str:\n",
    "        if i==j:\n",
    "            count+=1\n",
    "        if count>1:\n",
    "            break\n",
    "    if count==1:\n",
    "        print('the non-repeated char is ',i)"
   ]
  },
  {
   "cell_type": "code",
   "execution_count": 14,
   "metadata": {},
   "outputs": [
    {
     "name": "stdout",
     "output_type": "stream",
     "text": [
      "1\n"
     ]
    }
   ],
   "source": [
    "v = \"vamshi\"\n",
    "print(v.count(\"a\"))"
   ]
  },
  {
   "cell_type": "code",
   "execution_count": 29,
   "metadata": {},
   "outputs": [
    {
     "ename": "AttributeError",
     "evalue": "'node' object has no attribute 'data'",
     "output_type": "error",
     "traceback": [
      "\u001b[1;31m---------------------------------------------------------------------------\u001b[0m",
      "\u001b[1;31mAttributeError\u001b[0m                            Traceback (most recent call last)",
      "\u001b[1;32m<ipython-input-29-f9a3eb005b72>\u001b[0m in \u001b[0;36m<module>\u001b[1;34m\u001b[0m\n\u001b[0;32m     37\u001b[0m     \u001b[0ml1\u001b[0m\u001b[1;33m.\u001b[0m\u001b[0mappend\u001b[0m\u001b[1;33m(\u001b[0m\u001b[1;36m5\u001b[0m\u001b[1;33m)\u001b[0m\u001b[1;33m\u001b[0m\u001b[1;33m\u001b[0m\u001b[0m\n\u001b[0;32m     38\u001b[0m     \u001b[0ml1\u001b[0m\u001b[1;33m.\u001b[0m\u001b[0mappend\u001b[0m\u001b[1;33m(\u001b[0m\u001b[1;36m8\u001b[0m\u001b[1;33m)\u001b[0m\u001b[1;33m\u001b[0m\u001b[1;33m\u001b[0m\u001b[0m\n\u001b[1;32m---> 39\u001b[1;33m     \u001b[0mprint\u001b[0m\u001b[1;33m(\u001b[0m\u001b[0ml1\u001b[0m\u001b[1;33m.\u001b[0m\u001b[0mprintnum\u001b[0m\u001b[1;33m(\u001b[0m\u001b[1;33m)\u001b[0m\u001b[1;33m)\u001b[0m\u001b[1;33m\u001b[0m\u001b[1;33m\u001b[0m\u001b[0m\n\u001b[0m",
      "\u001b[1;32m<ipython-input-29-f9a3eb005b72>\u001b[0m in \u001b[0;36mprintnum\u001b[1;34m(self)\u001b[0m\n\u001b[0;32m     29\u001b[0m         \u001b[0mt\u001b[0m\u001b[1;33m=\u001b[0m\u001b[0mself\u001b[0m\u001b[1;33m.\u001b[0m\u001b[0mhead\u001b[0m\u001b[1;33m\u001b[0m\u001b[1;33m\u001b[0m\u001b[0m\n\u001b[0;32m     30\u001b[0m         \u001b[1;32mwhile\u001b[0m\u001b[1;33m(\u001b[0m\u001b[0mt\u001b[0m\u001b[1;33m)\u001b[0m\u001b[1;33m:\u001b[0m\u001b[1;33m\u001b[0m\u001b[1;33m\u001b[0m\u001b[0m\n\u001b[1;32m---> 31\u001b[1;33m             \u001b[0mprint\u001b[0m\u001b[1;33m(\u001b[0m\u001b[0mt\u001b[0m\u001b[1;33m.\u001b[0m\u001b[0mdata\u001b[0m\u001b[1;33m)\u001b[0m\u001b[1;33m\u001b[0m\u001b[1;33m\u001b[0m\u001b[0m\n\u001b[0m\u001b[0;32m     32\u001b[0m             \u001b[0mt\u001b[0m\u001b[1;33m=\u001b[0m\u001b[0mtemp\u001b[0m\u001b[1;33m.\u001b[0m\u001b[0mnext\u001b[0m\u001b[1;33m\u001b[0m\u001b[1;33m\u001b[0m\u001b[0m\n\u001b[0;32m     33\u001b[0m \u001b[1;32mif\u001b[0m \u001b[0m__name__\u001b[0m\u001b[1;33m==\u001b[0m\u001b[1;34m'__main__'\u001b[0m\u001b[1;33m:\u001b[0m\u001b[1;33m\u001b[0m\u001b[1;33m\u001b[0m\u001b[0m\n",
      "\u001b[1;31mAttributeError\u001b[0m: 'node' object has no attribute 'data'"
     ]
    }
   ],
   "source": [
    "class node:\n",
    "    def __init__(self,num):\n",
    "        self.num=num\n",
    "        self.next=None\n",
    "class list:\n",
    "    def __init__(self):\n",
    "        self.head=None\n",
    "    def push(self, newnum):\n",
    "        newnode=node(newnum)\n",
    "        newnode.next=self.head\n",
    "        self.head=newnode\n",
    "    def insertnext(self,prenode,newnode):\n",
    "        if prenode is None:\n",
    "            print('the previous node')\n",
    "            return\n",
    "        newnode=node(newnum)\n",
    "        newnode.next=prenode.next\n",
    "        prenode.next=newnode\n",
    "    def append(self,newnum):\n",
    "        newnode=node(newnum)\n",
    "        if self.head is None:\n",
    "            self.head=newnode\n",
    "            return\n",
    "        last=self.head\n",
    "        while(last.next):\n",
    "            last=last.next\n",
    "        last.next=newnode\n",
    "    def printnum(self):\n",
    "        t=self.head\n",
    "        while(t):\n",
    "            print(t.data)\n",
    "            t=temp.next\n",
    "if __name__=='__main__':\n",
    "    l1=list()\n",
    "    l1.append(1)\n",
    "    l1.append(3)\n",
    "    l1.append(5)\n",
    "    l1.append(8)\n",
    "    print(l1.printnum())"
   ]
  },
  {
   "cell_type": "code",
   "execution_count": 26,
   "metadata": {},
   "outputs": [
    {
     "name": "stdout",
     "output_type": "stream",
     "text": [
      "2\n",
      "4\n",
      "1 5 8 10\n",
      "5\n"
     ]
    }
   ],
   "source": [
    "k=int(input())\n",
    "n=int(input())\n",
    "l=[int(x) for x in input().split()]\n",
    "\n",
    "for i in range(n):\n",
    "    if l[i]>k:\n",
    "        l[i]-=k\n",
    "    else:\n",
    "        l[i]+=k\n",
    "print(max(l)-min(l))"
   ]
  },
  {
   "cell_type": "code",
   "execution_count": 35,
   "metadata": {},
   "outputs": [
    {
     "name": "stdout",
     "output_type": "stream",
     "text": [
      "1\n",
      "3\n",
      "5\n",
      "8\n",
      "None\n"
     ]
    }
   ],
   "source": [
    "class Node:\n",
    "    def __init__(self,num):\n",
    "        self.num =num\n",
    "        self.next=None\n",
    "class Llist:\n",
    "    def __init__(self):\n",
    "        self.head=None\n",
    "    def push(self, newnum):\n",
    "        newnum=Node(newnum)\n",
    "        newnum.next=self.head\n",
    "        self.head=newnode\n",
    "    def insertnext(self,prenode,newnode):\n",
    "        if prenode is None:\n",
    "            print('the previous node')\n",
    "            return\n",
    "        newnode=Node(newnum)\n",
    "        newnode.next=prenode.next\n",
    "        prenode.next=newnode\n",
    "    def append(self,newnum):\n",
    "        newnode=Node(newnum)\n",
    "        if self.head is None:\n",
    "            self.head=newnode\n",
    "            return\n",
    "        last=self.head\n",
    "        while(last.next):\n",
    "            last=last.next\n",
    "        last.next=newnode\n",
    "    def printnum(self):\n",
    "        t=self.head\n",
    "        while(t):\n",
    "            print(t.num)\n",
    "            t=t.next\n",
    "if __name__=='__main__':\n",
    "    l1=Llist()\n",
    "    l1.append(1)\n",
    "    l1.append(3)\n",
    "    l1.append(5)\n",
    "    l1.append(8)\n",
    "    print(l1.printnum())"
   ]
  },
  {
   "cell_type": "code",
   "execution_count": 3,
   "metadata": {},
   "outputs": [
    {
     "name": "stdout",
     "output_type": "stream",
     "text": [
      "100\n",
      "80\n",
      "70\n",
      "60\n",
      "50\n",
      "30\n",
      "20\n"
     ]
    }
   ],
   "source": [
    "class Node:\n",
    "    def __init__(self, key):\n",
    "        self.left = None\n",
    "        self.right = None\n",
    "        self.val = key\n",
    "def insert(root, key):\n",
    "    if root is None:\n",
    "        return Node(key)\n",
    "    else:\n",
    "        if root.val == key:\n",
    "            return root\n",
    "        elif root.val > key:\n",
    "            root.right = insert(root.right, key)\n",
    "        else:\n",
    "            root.left = insert(root.left, key)\n",
    "    return root\n",
    "def inorder(root):\n",
    "    if root:\n",
    "        inorder(root.left)\n",
    "        print(root.val)\n",
    "        inorder(root.right)\n",
    "r = Node(50)\n",
    "r = insert(r, 30)\n",
    "r = insert(r, 20)\n",
    "r = insert(r, 100)\n",
    "r = insert(r, 70)\n",
    "r = insert(r, 60)\n",
    "r = insert(r, 80)\n",
    "inorder(r)"
   ]
  },
  {
   "cell_type": "markdown",
   "metadata": {},
   "source": [
    "The first step includes the creation of a heap by adjusting the elements of the array\n",
    "-> After the creation of heap, now remove the root."
   ]
  }
 ],
 "metadata": {
  "kernelspec": {
   "display_name": "Python 3",
   "language": "python",
   "name": "python3"
  },
  "language_info": {
   "codemirror_mode": {
    "name": "ipython",
    "version": 3
   },
   "file_extension": ".py",
   "mimetype": "text/x-python",
   "name": "python",
   "nbconvert_exporter": "python",
   "pygments_lexer": "ipython3",
   "version": "3.7.3"
  }
 },
 "nbformat": 4,
 "nbformat_minor": 2
}

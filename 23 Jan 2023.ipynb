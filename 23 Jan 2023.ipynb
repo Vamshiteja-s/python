{
 "cells": [
  {
   "cell_type": "code",
   "execution_count": null,
   "metadata": {},
   "outputs": [],
   "source": [
    "a = int(input(\"Enter the value of A:\"))\n",
    "b = int(input(\"Enter the value of B:\"))\n",
    "c = int(input(\"Enter the value of C:\"))\n",
    "if(a>b and a>c):\n",
    "    print(\"A is greater\")\n",
    "elif(b>a and b>c):\n",
    "    print(\"B is greater\")\n",
    "else:\n",
    "    print(\"C is greater\")"
   ]
  },
  {
   "cell_type": "code",
   "execution_count": 13,
   "metadata": {},
   "outputs": [
    {
     "name": "stdout",
     "output_type": "stream",
     "text": [
      "Enter the value of A,B,C:2,4,1\n",
      "B is greater\n"
     ]
    }
   ],
   "source": [
    "a,b,c =[int(i) for i in (input(\"Enter the value of A,B,C:\").split(\",\"))]\n",
    "if(a>b and a>c):\n",
    "    print(\"A is greater\")\n",
    "elif(b>a and b>c):\n",
    "    print(\"B is greater\")\n",
    "else:\n",
    "    print(\"C is greater\")"
   ]
  },
  {
   "cell_type": "code",
   "execution_count": 19,
   "metadata": {},
   "outputs": [
    {
     "name": "stdout",
     "output_type": "stream",
     "text": [
      "Enter number of rows:  8\n",
      "1 \n",
      "1 2 \n",
      "1 2 3 \n",
      "1 2 3 4 \n",
      "1 2 3 4 5 \n",
      "1 2 3 4 5 6 \n",
      "1 2 3 4 5 6 7 \n",
      "1 2 3 4 5 6 7 8 \n"
     ]
    }
   ],
   "source": [
    "r = int(input(\"Enter number of rows:  \"))\n",
    "for i in range(r):\n",
    "    for j in range(i+1):\n",
    "        print(j+1, end = \" \")\n",
    "    print()"
   ]
  },
  {
   "cell_type": "code",
   "execution_count": 25,
   "metadata": {},
   "outputs": [
    {
     "name": "stdout",
     "output_type": "stream",
     "text": [
      "Enter number:  8\n",
      "40320\n"
     ]
    }
   ],
   "source": [
    "#factorial of number........................\n",
    "f = int(input(\"Enter number:  \"))\n",
    "for i in range (1,f):\n",
    "    f*=i\n",
    "print(f)"
   ]
  },
  {
   "cell_type": "code",
   "execution_count": 35,
   "metadata": {},
   "outputs": [
    {
     "name": "stdout",
     "output_type": "stream",
     "text": [
      "50\n",
      "0\n",
      "1\n",
      "1\n",
      "2\n",
      "3\n",
      "5\n",
      "8\n",
      "13\n",
      "21\n",
      "34\n"
     ]
    }
   ],
   "source": [
    "#fibonacci series\n",
    "x = int(input())\n",
    "f0 = 0\n",
    "f1 = 1\n",
    "print(f0)\n",
    "print(f1)\n",
    "for i in range (2, x):\n",
    "    f2 = f0+f1\n",
    "    if(f2<x):\n",
    "        print(f2)\n",
    "    else:\n",
    "        break\n",
    "    f0 = f1\n",
    "    f1 = f2"
   ]
  },
  {
   "cell_type": "markdown",
   "metadata": {},
   "source": [
    "List is ordered, changeable and mutable\n",
    "Tuple is ordered, unchangeable and mutable\n",
    "Set is unordered, unchangeable, unindexed and immutable\n",
    "Dictonary is ordered, changeable and immutable"
   ]
  },
  {
   "cell_type": "code",
   "execution_count": 6,
   "metadata": {},
   "outputs": [
    {
     "name": "stdout",
     "output_type": "stream",
     "text": [
      "3232\n",
      "Non Prime\n"
     ]
    }
   ],
   "source": [
    "#prime or not\n",
    "n = int(input())\n",
    "m=0\n",
    "for i in range(1, n//2+1):\n",
    "    if(n%i == 0):\n",
    "        m+=1\n",
    "if(m==1):\n",
    "    print(\"Prime\")\n",
    "else:\n",
    "    print(\"Not Prime\")"
   ]
  },
  {
   "cell_type": "code",
   "execution_count": 13,
   "metadata": {},
   "outputs": [
    {
     "name": "stdout",
     "output_type": "stream",
     "text": [
      "1 3 5 7 9 \n",
      "5.0\n"
     ]
    }
   ],
   "source": [
    "#average of the elements in a list\n",
    "li = [int(i) for i in (input().split())]\n",
    "s = 0\n",
    "for i in li:\n",
    "    s+=i\n",
    "print(s/len(li))"
   ]
  },
  {
   "cell_type": "code",
   "execution_count": 11,
   "metadata": {},
   "outputs": [
    {
     "name": "stdout",
     "output_type": "stream",
     "text": [
      "Red Blue Green Black yellow\n",
      "['Blue', 'Green', 'Black']\n"
     ]
    }
   ],
   "source": [
    "l=input().split()\n",
    "s=[]\n",
    "for i in range(len(l)):\n",
    "    if i==0 or i==4 or i==5:\n",
    "        continue\n",
    "    else:\n",
    "        s.append(l[i])\n",
    "print(s)"
   ]
  },
  {
   "cell_type": "code",
   "execution_count": 17,
   "metadata": {},
   "outputs": [
    {
     "name": "stdout",
     "output_type": "stream",
     "text": [
      "5\n",
      "['10', '44', ('Vamshi', 'Teja')]\n",
      "3\n"
     ]
    }
   ],
   "source": [
    "#write a python program to remove an empty tuple(s) from alist of tuples\n",
    "list1=['10','44',(),('Vamshi','Teja'),()]\n",
    "print(len(list1))\n",
    "for i in list1:\n",
    "    if(len(i)==0):\n",
    "        list1.remove(i)\n",
    "print(list1)\n",
    "print(len(list1))"
   ]
  },
  {
   "cell_type": "markdown",
   "metadata": {},
   "source": [
    "1. factorial of a number\n",
    "2. fibonacci series\n",
    "3. prime or not\n",
    "4. write a python program to remove an empty tuple(s) from alist of tuples\n",
    "5. to calculate the average of the numbers in the given list\n",
    "6. write a python program to print a specified list after removing the 0Th,4th and 5th elements.\n",
    "   sample list:      ['red','green','white','black','pink','yellow']\n",
    "   expected output:  ['green','white','black']\n",
    "7. to generate all permutations of a list in python\n",
    "8. to calculate the product,multiplying all the numbers of a given tuple\n",
    "9. counting repeated characters in a string\n",
    "10. reverse of a string if its length is a multiple of 4\n",
    "11. to separate even odd and zeros from a list\n",
    "12. Split a given dictionary of lists into list of dictionaries"
   ]
  },
  {
   "cell_type": "code",
   "execution_count": 21,
   "metadata": {},
   "outputs": [
    {
     "name": "stdout",
     "output_type": "stream",
     "text": [
      "2 3 5 6 2 \n",
      "360\n"
     ]
    }
   ],
   "source": [
    "#to calculate the product,multiplying all the numbers of a given tuple\n",
    "t=input().split()\n",
    "t=(int(i) for i in t)\n",
    "prod=1\n",
    "for i in t:\n",
    "    prod=prod*i\n",
    "print(prod)"
   ]
  },
  {
   "cell_type": "code",
   "execution_count": 22,
   "metadata": {},
   "outputs": [
    {
     "name": "stdout",
     "output_type": "stream",
     "text": [
      "malayalam\n",
      "m=2\n",
      "a=4\n",
      "l=2\n"
     ]
    }
   ],
   "source": [
    "s=input()\n",
    "l=[]\n",
    "for i in s:\n",
    "    \n",
    "    if s.count(i,0,len(s))>1 and i not in l:\n",
    "        print(i,end=\"=\")\n",
    "        print(s.count(i,0,len(s)))\n",
    "    l.append(i)"
   ]
  },
  {
   "cell_type": "code",
   "execution_count": null,
   "metadata": {},
   "outputs": [],
   "source": []
  }
 ],
 "metadata": {
  "kernelspec": {
   "display_name": "Python 3",
   "language": "python",
   "name": "python3"
  },
  "language_info": {
   "codemirror_mode": {
    "name": "ipython",
    "version": 3
   },
   "file_extension": ".py",
   "mimetype": "text/x-python",
   "name": "python",
   "nbconvert_exporter": "python",
   "pygments_lexer": "ipython3",
   "version": "3.7.3"
  }
 },
 "nbformat": 4,
 "nbformat_minor": 2
}
